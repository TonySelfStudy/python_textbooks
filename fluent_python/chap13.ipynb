{
 "cells": [
  {
   "cell_type": "code",
   "execution_count": null,
   "metadata": {},
   "outputs": [],
   "source": [
    "# Notes from reading/studying Fluent Python by Luciano Ramalho\n",
    "# Chapter 13\n",
    "# Created 9/23/20"
   ]
  },
  {
   "cell_type": "code",
   "execution_count": 15,
   "metadata": {},
   "outputs": [],
   "source": [
    "from array import array\n",
    "import math\n",
    "import numbers\n",
    "import functools\n",
    "from functools import reduce\n",
    "import operator\n",
    "from itertools import zip_longest\n",
    "import string\n",
    "import reprlib"
   ]
  },
  {
   "cell_type": "code",
   "execution_count": 21,
   "metadata": {},
   "outputs": [],
   "source": [
    "# Final form after chap10\n",
    "\n",
    "class Vector:\n",
    "    typecode = 'd'\n",
    "    shortcut_names='xyzt'\n",
    "#     letters = string.ascii_lowercase\n",
    "\n",
    "    \n",
    "    def __init__(self, components):\n",
    "        self._components = array(self.typecode, components)\n",
    "        \n",
    "    def __iter__(self):\n",
    "        return iter(self._components)\n",
    "    \n",
    "    def __repr__(self):\n",
    "        components = reprlib.repr(self._components)\n",
    "        components = components[components.find('['):-1]\n",
    "        return 'Vector({})'.format(components)\n",
    "    \n",
    "    def __str__(self):\n",
    "        return str(tuple(self))\n",
    "    \n",
    "    def __bytes__(self):\n",
    "        return (bytes([ord(self.typecode)]) +\n",
    "               bytes(self._components))\n",
    "    \n",
    "    def __abs__(self):\n",
    "        return math.sqrt(sum(x * x for x in self))\n",
    "    \n",
    "    def __bool__(self):\n",
    "        return bool(abs(self))\n",
    "        \n",
    "    @classmethod\n",
    "    def frombytes(cls, octets):\n",
    "        typecode = chr(octets[0])\n",
    "        memv = memoryview(octets[1:]).cast(typecode)\n",
    "        return cls(memv)\n",
    "    \n",
    "    def __len__(self):\n",
    "        return len(self._components)\n",
    "    \n",
    "    def __getitem__(self, index):\n",
    "#         print(f'Index = {index}')\n",
    "        cls = type(self)\n",
    "        if isinstance(index, slice):\n",
    "#             print(\"I'm a slice\")\n",
    "            x = cls(self._components[index])\n",
    "#             print(x)\n",
    "            return x\n",
    "        elif isinstance(index, numbers.Integral):\n",
    "#             print(\"I'm an Integral\")\n",
    "            return self._components[index]\n",
    "        else:\n",
    "            raise TypeError(f'Index must be integer or slice.\\nYou selected: {index}')\n",
    "    \n",
    "    def __getattr__(self, attr):\n",
    "        cls = type(self)\n",
    "        attr = attr.lower()\n",
    "        pos = cls.shortcut_names.find(attr)\n",
    "        if 0 <= pos < len(cls.shortcut_names):\n",
    "            return self._components[pos]\n",
    "        else:\n",
    "            raise AttributeError(f'Unknown attribute {attr} selected for {self!r}')\n",
    "            \n",
    "    def __setattr__(self, attr, value):\n",
    "        cls = type(self)\n",
    "        attr = attr.lower()\n",
    "        pos = cls.shortcut_names.find(attr)\n",
    "        if 0 <= pos < len(cls.shortcut_names):\n",
    "            raise AttributeError(f'Attribute \"{attr}\" selected.  ' +\n",
    "                                 f'\"{cls.shortcut_names}\" attributes are read only.')\n",
    "        else:\n",
    "            object.__setattr__(self, attr, value)\n",
    "        \n",
    "    def __hash__(self):\n",
    "#         return self.hash1()\n",
    "        return self.hash2()\n",
    "    \n",
    "    def hash1(self):\n",
    "        hashes = [hash(i) for i in self._components]\n",
    "#         x = reduce(lambda x, y: x^y, hashes)\n",
    "        x = reduce(operator.xor, hashes, 0)\n",
    "        return x\n",
    "\n",
    "    def hash2(self):\n",
    "        hashes = map(hash, self._components)\n",
    "        x = reduce(operator.xor, hashes, 0)\n",
    "        return x\n",
    "\n",
    "    def __pos__(self):\n",
    "        cls = type(self)\n",
    "        return cls(self)\n",
    "    \n",
    "    def __neg__(self):\n",
    "        cls = type(self)\n",
    "        components = [-i for i in self._components]\n",
    "        return cls(components)\n",
    "    \n",
    "    def __add__(self, other):\n",
    "        cls = type(self)\n",
    "        try:\n",
    "            components = [i+j for i, j in zip_longest(self._components, other, fillvalue=0.0)]\n",
    "        except TypeError:\n",
    "            return NotImplemented\n",
    "        return cls(components)\n",
    "\n",
    "    def __radd__(self, other):\n",
    "        return self + other\n",
    "\n",
    "    def __eq__(self, other):\n",
    "        if isinstance(other, Vector):\n",
    "            if len(self._components) != len(other):\n",
    "                return False\n",
    "            return all(i==j for i, j in zip(self._components, other))\n",
    "        else:\n",
    "            return NotImplemented\n"
   ]
  },
  {
   "cell_type": "code",
   "execution_count": 23,
   "metadata": {},
   "outputs": [
    {
     "name": "stdout",
     "output_type": "stream",
     "text": [
      "(1.0, 2.0) (3.0, 6.0) (4.0, 8.0)\n",
      "(8.0, 13.0)\n"
     ]
    }
   ],
   "source": [
    "b = Vector([1, 2])\n",
    "c = Vector([3, 6])\n",
    "d = b + (3.0, 6.0)\n",
    "print(b, c, d)\n",
    "e = (7.0, 11.0) + b\n",
    "print(e)\n"
   ]
  },
  {
   "cell_type": "code",
   "execution_count": null,
   "metadata": {},
   "outputs": [],
   "source": []
  },
  {
   "cell_type": "code",
   "execution_count": 17,
   "metadata": {},
   "outputs": [
    {
     "name": "stdout",
     "output_type": "stream",
     "text": [
      "(1.0, 2.0) (1.0, 2.0) (-1.0, -2.0)\n",
      "False True\n"
     ]
    }
   ],
   "source": [
    "b = Vector([1, 2])\n",
    "c = +b\n",
    "d = -b\n",
    "print(b, c, d)\n",
    "print(b is c, b == c)"
   ]
  },
  {
   "cell_type": "code",
   "execution_count": 4,
   "metadata": {},
   "outputs": [
    {
     "name": "stdout",
     "output_type": "stream",
     "text": [
      "Help on built-in function all in module builtins:\n",
      "\n",
      "all(iterable, /)\n",
      "    Return True if bool(x) is True for all values x in the iterable.\n",
      "    \n",
      "    If the iterable is empty, return True.\n",
      "\n"
     ]
    }
   ],
   "source": [
    "help(all)"
   ]
  },
  {
   "cell_type": "code",
   "execution_count": 30,
   "metadata": {},
   "outputs": [],
   "source": [
    "class my_mutable:\n",
    "    def __init__(self):\n",
    "        self.x = []\n",
    "    def __iadd__(self, item):\n",
    "        self.x.append(item)\n",
    "        return self"
   ]
  },
  {
   "cell_type": "code",
   "execution_count": 31,
   "metadata": {},
   "outputs": [
    {
     "name": "stdout",
     "output_type": "stream",
     "text": [
      "102954416 <__main__.my_mutable object at 0x0622F5B0> []\n",
      "102954416 <__main__.my_mutable object at 0x0622F5B0> [10]\n",
      "102954416 <__main__.my_mutable object at 0x0622F5B0> [10, 20]\n"
     ]
    }
   ],
   "source": [
    "y = my_mutable()\n",
    "print(id(y), y, y.x)\n",
    "y += 10\n",
    "print(id(y), y, y.x)\n",
    "y += 20\n",
    "print(id(y), y, y.x)"
   ]
  },
  {
   "cell_type": "code",
   "execution_count": null,
   "metadata": {},
   "outputs": [],
   "source": []
  }
 ],
 "metadata": {
  "kernelspec": {
   "display_name": "Python 3",
   "language": "python",
   "name": "python3"
  },
  "language_info": {
   "codemirror_mode": {
    "name": "ipython",
    "version": 3
   },
   "file_extension": ".py",
   "mimetype": "text/x-python",
   "name": "python",
   "nbconvert_exporter": "python",
   "pygments_lexer": "ipython3",
   "version": "3.8.2"
  }
 },
 "nbformat": 4,
 "nbformat_minor": 4
}
