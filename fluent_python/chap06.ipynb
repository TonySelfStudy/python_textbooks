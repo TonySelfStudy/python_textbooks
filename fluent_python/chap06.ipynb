{
 "cells": [
  {
   "cell_type": "code",
   "execution_count": 1,
   "metadata": {},
   "outputs": [],
   "source": [
    "# Notes from reading/studying Fluent Python by Luciano Ramalho\n",
    "# Chapter 6\n",
    "# Created 9/18/20"
   ]
  },
  {
   "cell_type": "code",
   "execution_count": 3,
   "metadata": {},
   "outputs": [],
   "source": [
    "def make_averager():\n",
    "    series = []\n",
    "    \n",
    "    def averager(val):\n",
    "        series.append(val)\n",
    "        tot = sum(series)\n",
    "        avg = tot / len(series)\n",
    "        print(f'added {val}.  Running average: {avg}')\n",
    "        return avg\n",
    "    return averager       \n",
    "        "
   ]
  },
  {
   "cell_type": "code",
   "execution_count": 7,
   "metadata": {},
   "outputs": [
    {
     "name": "stdout",
     "output_type": "stream",
     "text": [
      "<function make_averager.<locals>.averager at 0x07153658>\n"
     ]
    }
   ],
   "source": [
    "a = make_averager()\n",
    "print(a)"
   ]
  },
  {
   "cell_type": "code",
   "execution_count": 8,
   "metadata": {},
   "outputs": [
    {
     "name": "stdout",
     "output_type": "stream",
     "text": [
      "added 10.  Running average: 10.0\n",
      "added 20.  Running average: 15.0\n",
      "added 100.  Running average: 43.333333333333336\n"
     ]
    }
   ],
   "source": [
    "a(10)\n",
    "a(20)\n",
    "a(100);"
   ]
  },
  {
   "cell_type": "code",
   "execution_count": 21,
   "metadata": {},
   "outputs": [
    {
     "name": "stdout",
     "output_type": "stream",
     "text": [
      "__class__\n",
      "**************************************************\n",
      "<class 'code'>\n",
      "__delattr__\n",
      "**************************************************\n",
      "<method-wrapper '__delattr__' of code object at 0x070B93C8>\n",
      "__dir__\n",
      "**************************************************\n",
      "<built-in method __dir__ of code object at 0x070B93C8>\n",
      "__doc__\n",
      "**************************************************\n",
      "code(argcount, posonlyargcount, kwonlyargcount, nlocals, stacksize,\n",
      "      flags, codestring, constants, names, varnames, filename, name,\n",
      "      firstlineno, lnotab[, freevars[, cellvars]])\n",
      "\n",
      "Create a code object.  Not for the faint of heart.\n",
      "__eq__\n",
      "**************************************************\n",
      "<method-wrapper '__eq__' of code object at 0x070B93C8>\n",
      "__format__\n",
      "**************************************************\n",
      "<built-in method __format__ of code object at 0x070B93C8>\n",
      "__ge__\n",
      "**************************************************\n",
      "<method-wrapper '__ge__' of code object at 0x070B93C8>\n",
      "__getattribute__\n",
      "**************************************************\n",
      "<method-wrapper '__getattribute__' of code object at 0x070B93C8>\n",
      "__gt__\n",
      "**************************************************\n",
      "<method-wrapper '__gt__' of code object at 0x070B93C8>\n",
      "__hash__\n",
      "**************************************************\n",
      "<method-wrapper '__hash__' of code object at 0x070B93C8>\n",
      "__init__\n",
      "**************************************************\n",
      "<method-wrapper '__init__' of code object at 0x070B93C8>\n",
      "__init_subclass__\n",
      "**************************************************\n",
      "<built-in method __init_subclass__ of type object at 0x7A302268>\n",
      "__le__\n",
      "**************************************************\n",
      "<method-wrapper '__le__' of code object at 0x070B93C8>\n",
      "__lt__\n",
      "**************************************************\n",
      "<method-wrapper '__lt__' of code object at 0x070B93C8>\n",
      "__ne__\n",
      "**************************************************\n",
      "<method-wrapper '__ne__' of code object at 0x070B93C8>\n",
      "__new__\n",
      "**************************************************\n",
      "<built-in method __new__ of type object at 0x7A302268>\n",
      "__reduce__\n",
      "**************************************************\n",
      "<built-in method __reduce__ of code object at 0x070B93C8>\n",
      "__reduce_ex__\n",
      "**************************************************\n",
      "<built-in method __reduce_ex__ of code object at 0x070B93C8>\n",
      "__repr__\n",
      "**************************************************\n",
      "<method-wrapper '__repr__' of code object at 0x070B93C8>\n",
      "__setattr__\n",
      "**************************************************\n",
      "<method-wrapper '__setattr__' of code object at 0x070B93C8>\n",
      "__sizeof__\n",
      "**************************************************\n",
      "<built-in method __sizeof__ of code object at 0x070B93C8>\n",
      "__str__\n",
      "**************************************************\n",
      "<method-wrapper '__str__' of code object at 0x070B93C8>\n",
      "__subclasshook__\n",
      "**************************************************\n",
      "<built-in method __subclasshook__ of type object at 0x7A302268>\n",
      "co_argcount\n",
      "**************************************************\n",
      "1\n",
      "co_cellvars\n",
      "**************************************************\n",
      "()\n",
      "co_code\n",
      "**************************************************\n",
      "b'\\x88\\x00\\xa0\\x00|\\x00\\xa1\\x01\\x01\\x00t\\x01\\x88\\x00\\x83\\x01}\\x01|\\x01t\\x02\\x88\\x00\\x83\\x01\\x1b\\x00}\\x02t\\x03d\\x01|\\x00\\x9b\\x00d\\x02|\\x02\\x9b\\x00\\x9d\\x04\\x83\\x01\\x01\\x00|\\x02S\\x00'\n",
      "co_consts\n",
      "**************************************************\n",
      "(None, 'added ', '.  Running average: ')\n",
      "co_filename\n",
      "**************************************************\n",
      "<ipython-input-3-4953c59a7fe4>\n",
      "co_firstlineno\n",
      "**************************************************\n",
      "4\n",
      "co_flags\n",
      "**************************************************\n",
      "8211\n",
      "co_freevars\n",
      "**************************************************\n",
      "('series',)\n",
      "co_kwonlyargcount\n",
      "**************************************************\n",
      "0\n",
      "co_lnotab\n",
      "**************************************************\n",
      "b'\\x00\\x01\\n\\x01\\x08\\x01\\x0c\\x01\\x14\\x01'\n",
      "co_name\n",
      "**************************************************\n",
      "averager\n",
      "co_names\n",
      "**************************************************\n",
      "('append', 'sum', 'len', 'print')\n",
      "co_nlocals\n",
      "**************************************************\n",
      "3\n",
      "co_posonlyargcount\n",
      "**************************************************\n",
      "0\n",
      "co_stacksize\n",
      "**************************************************\n",
      "5\n",
      "co_varnames\n",
      "**************************************************\n",
      "('val', 'tot', 'avg')\n",
      "replace\n",
      "**************************************************\n",
      "<built-in method replace of code object at 0x070B93C8>\n"
     ]
    }
   ],
   "source": [
    "for i in dir(a.__code__):\n",
    "    print(f'{i}\\n{\"*\"*50}')\n",
    "    print(f'{getattr(a.__code__, i)}')"
   ]
  },
  {
   "cell_type": "code",
   "execution_count": 19,
   "metadata": {},
   "outputs": [
    {
     "data": {
      "text/plain": [
       "'tot'"
      ]
     },
     "execution_count": 19,
     "metadata": {},
     "output_type": "execute_result"
    }
   ],
   "source": [
    "a.__code__.co_varnames[1]\n"
   ]
  },
  {
   "cell_type": "code",
   "execution_count": 23,
   "metadata": {},
   "outputs": [
    {
     "data": {
      "text/plain": [
       "(<cell at 0x06F0E880: list object at 0x075B79A8>,)"
      ]
     },
     "execution_count": 23,
     "metadata": {},
     "output_type": "execute_result"
    }
   ],
   "source": [
    "a.__closure__"
   ]
  },
  {
   "cell_type": "code",
   "execution_count": 28,
   "metadata": {},
   "outputs": [
    {
     "name": "stdout",
     "output_type": "stream",
     "text": [
      "__class__\n",
      "__delattr__\n",
      "__dir__\n",
      "__doc__\n",
      "__eq__\n",
      "__format__\n",
      "__ge__\n",
      "__getattribute__\n",
      "__gt__\n",
      "__hash__\n",
      "__init__\n",
      "__init_subclass__\n",
      "__le__\n",
      "__lt__\n",
      "__ne__\n",
      "__new__\n",
      "__reduce__\n",
      "__reduce_ex__\n",
      "__repr__\n",
      "__setattr__\n",
      "__sizeof__\n",
      "__str__\n",
      "__subclasshook__\n",
      "cell_contents\n"
     ]
    }
   ],
   "source": [
    "for i in dir(a.__closure__[0]):\n",
    "    print(i)"
   ]
  },
  {
   "cell_type": "code",
   "execution_count": 29,
   "metadata": {},
   "outputs": [
    {
     "data": {
      "text/plain": [
       "[10, 20, 100]"
      ]
     },
     "execution_count": 29,
     "metadata": {},
     "output_type": "execute_result"
    }
   ],
   "source": [
    "a.__closure__[0].cell_contents"
   ]
  },
  {
   "cell_type": "code",
   "execution_count": 30,
   "metadata": {},
   "outputs": [
    {
     "name": "stderr",
     "output_type": "stream",
     "text": [
      "<>:1: SyntaxWarning: \"is\" with a literal. Did you mean \"==\"?\n",
      "<>:1: SyntaxWarning: \"is\" with a literal. Did you mean \"==\"?\n",
      "<ipython-input-30-2ebf4c947f31>:1: SyntaxWarning: \"is\" with a literal. Did you mean \"==\"?\n",
      "  1 is 1.0\n"
     ]
    },
    {
     "data": {
      "text/plain": [
       "False"
      ]
     },
     "execution_count": 30,
     "metadata": {},
     "output_type": "execute_result"
    }
   ],
   "source": [
    "1 is 1.0"
   ]
  },
  {
   "cell_type": "code",
   "execution_count": 31,
   "metadata": {},
   "outputs": [
    {
     "name": "stdout",
     "output_type": "stream",
     "text": [
      "l1: [3, [66, 44], (7, 8, 9), 100]\n",
      "l2: [3, [66, 44], (7, 8, 9)]\n",
      "l1: [3, [66, 44, 33, 22], (7, 8, 9), 100]\n",
      "l2: [3, [66, 44, 33, 22], (7, 8, 9, 10, 11)]\n"
     ]
    }
   ],
   "source": [
    "l1 = [3, [66, 55, 44], (7, 8, 9)]\n",
    "l2 = list(l1)\n",
    "l1.append(100)\n",
    "l1[1].remove(55)\n",
    "print('l1:' ,l1)\n",
    "print('l2:', l2)\n",
    "l2[1] += [33, 22]\n",
    "l2[2] += (10, 11)\n",
    "print('l1:', l1)\n",
    "print('l2:', l2)"
   ]
  },
  {
   "cell_type": "code",
   "execution_count": null,
   "metadata": {},
   "outputs": [],
   "source": []
  }
 ],
 "metadata": {
  "kernelspec": {
   "display_name": "Python 3",
   "language": "python",
   "name": "python3"
  },
  "language_info": {
   "codemirror_mode": {
    "name": "ipython",
    "version": 3
   },
   "file_extension": ".py",
   "mimetype": "text/x-python",
   "name": "python",
   "nbconvert_exporter": "python",
   "pygments_lexer": "ipython3",
   "version": "3.8.2"
  }
 },
 "nbformat": 4,
 "nbformat_minor": 4
}
