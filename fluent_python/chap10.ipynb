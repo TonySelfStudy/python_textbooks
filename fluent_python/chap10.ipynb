{
 "cells": [
  {
   "cell_type": "code",
   "execution_count": 1,
   "metadata": {},
   "outputs": [],
   "source": [
    "# Notes from reading/studying Fluent Python by Luciano Ramalho\n",
    "# Chapter 10\n",
    "# Created 9/22/20"
   ]
  },
  {
   "cell_type": "code",
   "execution_count": 1,
   "metadata": {},
   "outputs": [],
   "source": [
    "from array import array\n",
    "import reprlib\n",
    "import math\n",
    "import numbers\n",
    "import functools\n",
    "import operator\n",
    "import itertools\n",
    "import string\n"
   ]
  },
  {
   "cell_type": "code",
   "execution_count": 4,
   "metadata": {},
   "outputs": [],
   "source": [
    "a = array('d', range(10))"
   ]
  },
  {
   "cell_type": "code",
   "execution_count": 11,
   "metadata": {},
   "outputs": [
    {
     "name": "stdout",
     "output_type": "stream",
     "text": [
      "array('d', [0.0, 1.0, 2.0, 3.0, 4.0, 5.0, 6.0, 7.0, 8.0, 9.0]) is of type: <class 'array.array'>\n",
      "<arrayiterator object at 0x0617E448> is of type <class 'arrayiterator'>\n",
      "a is b -> False \n",
      "a == b -> False\n"
     ]
    }
   ],
   "source": [
    "print(f'{a} is of type: {type(a)}')\n",
    "b = iter(a)\n",
    "print(f'{b} is of type {type(b)}')\n",
    "print(f'a is b -> {a is b} \\na == b -> {a==b}')\n",
    "      \n",
    "\n"
   ]
  },
  {
   "cell_type": "code",
   "execution_count": 23,
   "metadata": {},
   "outputs": [
    {
     "name": "stdout",
     "output_type": "stream",
     "text": [
      "__class__            -> <class 'arrayiterator'>\n",
      "__delattr__          -> <method-wrapper '__delattr__' of arrayiterator object at 0x0617E448>\n",
      "__dir__              -> <built-in method __dir__ of arrayiterator object at 0x0617E448>\n",
      "__doc__              -> None\n",
      "__eq__               -> <method-wrapper '__eq__' of arrayiterator object at 0x0617E448>\n",
      "__format__           -> <built-in method __format__ of arrayiterator object at 0x0617E448>\n",
      "__ge__               -> <method-wrapper '__ge__' of arrayiterator object at 0x0617E448>\n",
      "__getattribute__     -> <method-wrapper '__getattribute__' of arrayiterator object at 0x0617E448>\n",
      "__gt__               -> <method-wrapper '__gt__' of arrayiterator object at 0x0617E448>\n",
      "__hash__             -> <method-wrapper '__hash__' of arrayiterator object at 0x0617E448>\n",
      "__init__             -> <method-wrapper '__init__' of arrayiterator object at 0x0617E448>\n",
      "__init_subclass__    -> <built-in method __init_subclass__ of type object at 0x7A313BC0>\n",
      "__iter__             -> <method-wrapper '__iter__' of arrayiterator object at 0x0617E448>\n",
      "__le__               -> <method-wrapper '__le__' of arrayiterator object at 0x0617E448>\n",
      "__lt__               -> <method-wrapper '__lt__' of arrayiterator object at 0x0617E448>\n",
      "__ne__               -> <method-wrapper '__ne__' of arrayiterator object at 0x0617E448>\n",
      "__new__              -> <built-in method __new__ of type object at 0x7A30BB78>\n",
      "__next__             -> <method-wrapper '__next__' of arrayiterator object at 0x0617E448>\n",
      "__reduce__           -> <built-in method __reduce__ of arrayiterator object at 0x0617E448>\n",
      "__reduce_ex__        -> <built-in method __reduce_ex__ of arrayiterator object at 0x0617E448>\n",
      "__repr__             -> <method-wrapper '__repr__' of arrayiterator object at 0x0617E448>\n",
      "__setattr__          -> <method-wrapper '__setattr__' of arrayiterator object at 0x0617E448>\n",
      "__setstate__         -> <built-in method __setstate__ of arrayiterator object at 0x0617E448>\n",
      "__sizeof__           -> <built-in method __sizeof__ of arrayiterator object at 0x0617E448>\n",
      "__str__              -> <method-wrapper '__str__' of arrayiterator object at 0x0617E448>\n",
      "__subclasshook__     -> <built-in method __subclasshook__ of type object at 0x7A313BC0>\n"
     ]
    }
   ],
   "source": [
    "for i in dir(b):\n",
    "    print(f'{i:20} -> {getattr(b, i)}')"
   ]
  },
  {
   "cell_type": "code",
   "execution_count": 24,
   "metadata": {},
   "outputs": [
    {
     "name": "stdout",
     "output_type": "stream",
     "text": [
      "0.0 is of type: <class 'float'>\n",
      "1.0 is of type: <class 'float'>\n",
      "2.0 is of type: <class 'float'>\n",
      "3.0 is of type: <class 'float'>\n",
      "4.0 is of type: <class 'float'>\n",
      "5.0 is of type: <class 'float'>\n",
      "6.0 is of type: <class 'float'>\n",
      "7.0 is of type: <class 'float'>\n",
      "8.0 is of type: <class 'float'>\n",
      "9.0 is of type: <class 'float'>\n"
     ]
    }
   ],
   "source": [
    "for i in a:\n",
    "    print(f'{i} is of type: {type(i)}')"
   ]
  },
  {
   "cell_type": "code",
   "execution_count": null,
   "metadata": {},
   "outputs": [],
   "source": []
  },
  {
   "cell_type": "code",
   "execution_count": 70,
   "metadata": {},
   "outputs": [],
   "source": [
    "from array import array\n",
    "import reprlib\n",
    "import math\n",
    "import numbers\n",
    "from functools import reduce\n",
    "import operator\n",
    "\n",
    "class Vector:\n",
    "    typecode = 'd'\n",
    "    shortcut_names='xyzt'\n",
    "#     letters = string.ascii_lowercase\n",
    "\n",
    "    \n",
    "    def __init__(self, components):\n",
    "        self._components = array(self.typecode, components)\n",
    "        \n",
    "    def __iter__(self):\n",
    "        return iter(self._components)\n",
    "    \n",
    "    def __repr__(self):\n",
    "        components = reprlib.repr(self._components)\n",
    "        components = components[components.find('['):-1]\n",
    "        return 'Vector({})'.format(components)\n",
    "    \n",
    "    def __str__(self):\n",
    "        return str(tuple(self))\n",
    "    \n",
    "    def __bytes__(self):\n",
    "        return (bytes([ord(self.typecode)]) +\n",
    "               bytes(self._components))\n",
    "    \n",
    "    def __abs__(self):\n",
    "        return math.sqrt(sum(x * x) for x in self)\n",
    "    \n",
    "    def __bool__(self):\n",
    "        return bool(abs(self))\n",
    "        \n",
    "    @classmethod\n",
    "    def frombytes(cls, octets):\n",
    "        typecode = chr(octets[0])\n",
    "        memv = memoryview(octets[1:]).cast(typecode)\n",
    "        return cls(memv)\n",
    "    \n",
    "    def __len__(self):\n",
    "        return len(self._components)\n",
    "    \n",
    "    def __getitem__(self, index):\n",
    "#         print(f'Index = {index}')\n",
    "        cls = type(self)\n",
    "        if isinstance(index, slice):\n",
    "#             print(\"I'm a slice\")\n",
    "            x = cls(self._components[index])\n",
    "#             print(x)\n",
    "            return x\n",
    "        elif isinstance(index, numbers.Integral):\n",
    "#             print(\"I'm an Integral\")\n",
    "            return self._components[index]\n",
    "        else:\n",
    "            raise TypeError(f'Index must be integer or slice.\\nYou selected: {index}')\n",
    "    \n",
    "    def __getattr__(self, attr):\n",
    "        cls = type(self)\n",
    "        attr = attr.lower()\n",
    "        pos = cls.shortcut_names.find(attr)\n",
    "        if 0 <= pos < len(cls.shortcut_names):\n",
    "            return self._components[pos]\n",
    "        else:\n",
    "            raise AttributeError(f'Unknown attribute {attr} selected for {self!r}')\n",
    "            \n",
    "    def __setattr__(self, attr, value):\n",
    "        cls = type(self)\n",
    "        attr = attr.lower()\n",
    "        pos = cls.shortcut_names.find(attr)\n",
    "        if 0 <= pos < len(cls.shortcut_names):\n",
    "            raise AttributeError(f'Attribute \"{attr}\" selected.  ' +\n",
    "                                 f'\"{cls.shortcut_names}\" attributes are read only.')\n",
    "        else:\n",
    "            object.__setattr__(self, attr, value)\n",
    "        \n",
    "    def __hash__(self):\n",
    "#         return self.hash1()\n",
    "        return self.hash2()\n",
    "    \n",
    "    def hash1(self):\n",
    "        hashes = [hash(i) for i in self._components]\n",
    "#         x = reduce(lambda x, y: x^y, hashes)\n",
    "        x = reduce(operator.xor, hashes, 0)\n",
    "        return x\n",
    "\n",
    "    def hash2(self):\n",
    "        hashes = map(hash, self._components)\n",
    "        x = reduce(operator.xor, hashes, 0)\n",
    "        return x\n",
    "\n",
    "    def __eq__(self, other):\n",
    "        if len(self._components) != len(other):\n",
    "            return False\n",
    "        for i, j in zip(self._components, other):\n",
    "            if i != j:\n",
    "                return False\n",
    "        return True\n"
   ]
  },
  {
   "cell_type": "code",
   "execution_count": 71,
   "metadata": {},
   "outputs": [
    {
     "name": "stdout",
     "output_type": "stream",
     "text": [
      "7\n"
     ]
    }
   ],
   "source": [
    "a = Vector([1, 2, 3, 4, 5, 6])\n",
    "print(hash(a))"
   ]
  },
  {
   "cell_type": "code",
   "execution_count": 73,
   "metadata": {},
   "outputs": [
    {
     "name": "stdout",
     "output_type": "stream",
     "text": [
      "True False\n"
     ]
    }
   ],
   "source": [
    "b = Vector([1, 2])\n",
    "c = Vector([1, 2])\n",
    "d = Vector([1, 3])\n",
    "print(b==c, b==d)"
   ]
  },
  {
   "cell_type": "code",
   "execution_count": 50,
   "metadata": {},
   "outputs": [
    {
     "name": "stdout",
     "output_type": "stream",
     "text": [
      "3.1\n",
      "4.2\n",
      "3.0\n",
      "4.0\n"
     ]
    }
   ],
   "source": [
    "a = Vector([3.1, 4.2, 3, 4, 5, 6])\n",
    "print(a.x)\n",
    "print(a.y)\n",
    "print(a.z)\n",
    "print(a.t)\n",
    "# print(a.p)"
   ]
  },
  {
   "cell_type": "code",
   "execution_count": 51,
   "metadata": {},
   "outputs": [],
   "source": [
    "a.p = 10"
   ]
  },
  {
   "cell_type": "code",
   "execution_count": 52,
   "metadata": {},
   "outputs": [
    {
     "data": {
      "text/plain": [
       "{'_components': array('d', [3.1, 4.2, 3.0, 4.0, 5.0, 6.0]), 'p': 10}"
      ]
     },
     "execution_count": 52,
     "metadata": {},
     "output_type": "execute_result"
    }
   ],
   "source": [
    "vars(a)"
   ]
  },
  {
   "cell_type": "code",
   "execution_count": 53,
   "metadata": {},
   "outputs": [
    {
     "ename": "AttributeError",
     "evalue": "Attribute \"x\" selected.  \"xyzt\" attributes are read only.",
     "output_type": "error",
     "traceback": [
      "\u001b[1;31m---------------------------------------------------------------------------\u001b[0m",
      "\u001b[1;31mAttributeError\u001b[0m                            Traceback (most recent call last)",
      "\u001b[1;32m<ipython-input-53-25defdb11b1c>\u001b[0m in \u001b[0;36m<module>\u001b[1;34m\u001b[0m\n\u001b[1;32m----> 1\u001b[1;33m \u001b[0ma\u001b[0m\u001b[1;33m.\u001b[0m\u001b[0mx\u001b[0m \u001b[1;33m=\u001b[0m \u001b[1;36m15\u001b[0m\u001b[1;33m\u001b[0m\u001b[1;33m\u001b[0m\u001b[0m\n\u001b[0m",
      "\u001b[1;32m<ipython-input-48-59f40ec1ce17>\u001b[0m in \u001b[0;36m__setattr__\u001b[1;34m(self, attr, value)\u001b[0m\n\u001b[0;32m     74\u001b[0m         \u001b[0mpos\u001b[0m \u001b[1;33m=\u001b[0m \u001b[0mcls\u001b[0m\u001b[1;33m.\u001b[0m\u001b[0mshortcut_names\u001b[0m\u001b[1;33m.\u001b[0m\u001b[0mfind\u001b[0m\u001b[1;33m(\u001b[0m\u001b[0mattr\u001b[0m\u001b[1;33m)\u001b[0m\u001b[1;33m\u001b[0m\u001b[1;33m\u001b[0m\u001b[0m\n\u001b[0;32m     75\u001b[0m         \u001b[1;32mif\u001b[0m \u001b[1;36m0\u001b[0m \u001b[1;33m<=\u001b[0m \u001b[0mpos\u001b[0m \u001b[1;33m<\u001b[0m \u001b[0mlen\u001b[0m\u001b[1;33m(\u001b[0m\u001b[0mcls\u001b[0m\u001b[1;33m.\u001b[0m\u001b[0mshortcut_names\u001b[0m\u001b[1;33m)\u001b[0m\u001b[1;33m:\u001b[0m\u001b[1;33m\u001b[0m\u001b[1;33m\u001b[0m\u001b[0m\n\u001b[1;32m---> 76\u001b[1;33m             raise AttributeError(f'Attribute \"{attr}\" selected.  ' +\n\u001b[0m\u001b[0;32m     77\u001b[0m                                  f'\"{cls.shortcut_names}\" attributes are read only.')\n\u001b[0;32m     78\u001b[0m         \u001b[1;32melse\u001b[0m\u001b[1;33m:\u001b[0m\u001b[1;33m\u001b[0m\u001b[1;33m\u001b[0m\u001b[0m\n",
      "\u001b[1;31mAttributeError\u001b[0m: Attribute \"x\" selected.  \"xyzt\" attributes are read only."
     ]
    }
   ],
   "source": [
    "a.x = 15"
   ]
  },
  {
   "cell_type": "code",
   "execution_count": 54,
   "metadata": {},
   "outputs": [
    {
     "name": "stdout",
     "output_type": "stream",
     "text": [
      "3.0\n"
     ]
    },
    {
     "ename": "TypeError",
     "evalue": "'Vector' object does not support item assignment",
     "output_type": "error",
     "traceback": [
      "\u001b[1;31m---------------------------------------------------------------------------\u001b[0m",
      "\u001b[1;31mTypeError\u001b[0m                                 Traceback (most recent call last)",
      "\u001b[1;32m<ipython-input-54-15b5997a76c8>\u001b[0m in \u001b[0;36m<module>\u001b[1;34m\u001b[0m\n\u001b[0;32m      1\u001b[0m \u001b[0mprint\u001b[0m\u001b[1;33m(\u001b[0m\u001b[0ma\u001b[0m\u001b[1;33m[\u001b[0m\u001b[1;36m2\u001b[0m\u001b[1;33m]\u001b[0m\u001b[1;33m)\u001b[0m\u001b[1;33m\u001b[0m\u001b[1;33m\u001b[0m\u001b[0m\n\u001b[1;32m----> 2\u001b[1;33m \u001b[0ma\u001b[0m\u001b[1;33m[\u001b[0m\u001b[1;36m2\u001b[0m\u001b[1;33m]\u001b[0m\u001b[1;33m=\u001b[0m\u001b[1;36m100\u001b[0m\u001b[1;33m\u001b[0m\u001b[1;33m\u001b[0m\u001b[0m\n\u001b[0m\u001b[0;32m      3\u001b[0m \u001b[0mvars\u001b[0m\u001b[1;33m(\u001b[0m\u001b[0ma\u001b[0m\u001b[1;33m)\u001b[0m\u001b[1;33m\u001b[0m\u001b[1;33m\u001b[0m\u001b[0m\n",
      "\u001b[1;31mTypeError\u001b[0m: 'Vector' object does not support item assignment"
     ]
    }
   ],
   "source": [
    "print(a[2])\n",
    "a[2]=100\n",
    "vars(a)"
   ]
  },
  {
   "cell_type": "code",
   "execution_count": 43,
   "metadata": {},
   "outputs": [
    {
     "name": "stdout",
     "output_type": "stream",
     "text": [
      "str  -> (3.1, 4.2)\n",
      "repr -> Vector([3.1, 4.2])\n"
     ]
    }
   ],
   "source": [
    "a = Vector([3.1, 4.2])\n",
    "print(\"str  -> {0!s}\\nrepr -> {0!r}\".format(a))"
   ]
  },
  {
   "cell_type": "code",
   "execution_count": 44,
   "metadata": {},
   "outputs": [],
   "source": [
    "b = a._components"
   ]
  },
  {
   "cell_type": "code",
   "execution_count": 45,
   "metadata": {},
   "outputs": [
    {
     "name": "stdout",
     "output_type": "stream",
     "text": [
      "array('d', [3.1, 4.2])\n",
      "11\n",
      "[3.1, 4.2]\n"
     ]
    }
   ],
   "source": [
    "components = reprlib.repr(b)\n",
    "print(components)\n",
    "c = components.find('[')\n",
    "print(c)\n",
    "d = components[components.find('['):-1]\n",
    "print(d)\n"
   ]
  },
  {
   "cell_type": "code",
   "execution_count": 48,
   "metadata": {},
   "outputs": [
    {
     "name": "stdout",
     "output_type": "stream",
     "text": [
      "3\n",
      "3.0 5.0\n",
      "array('d', [1.0, 2.0, 3.0])\n"
     ]
    }
   ],
   "source": [
    "v1 = Vector([3, 4, 5])\n",
    "print(len(v1))\n",
    "print(v1[0], v1[-1])\n",
    "v7 = Vector(range(7))\n",
    "print(v7[1:4])"
   ]
  },
  {
   "cell_type": "code",
   "execution_count": 49,
   "metadata": {},
   "outputs": [
    {
     "name": "stdout",
     "output_type": "stream",
     "text": [
      "1\n",
      "slice(1, 4, None)\n",
      "slice(1, 4, 2)\n",
      "(slice(1, 4, 2), 9)\n",
      "(slice(1, 4, 2), slice(7, 9, None))\n"
     ]
    }
   ],
   "source": [
    "# Notes on how slices work\n",
    "class MySeq():\n",
    "    def __getitem__(self, index):\n",
    "        return index\n",
    "\n",
    "s = MySeq()\n",
    "print(s[1])\n",
    "print(s[1:4])\n",
    "print(s[1:4:2])\n",
    "print(s[1:4:2, 9])\n",
    "print(s[1:4:2, 7:9])\n"
   ]
  },
  {
   "cell_type": "code",
   "execution_count": 55,
   "metadata": {},
   "outputs": [
    {
     "name": "stdout",
     "output_type": "stream",
     "text": [
      "array('d', [1.0, 2.0, 3.0])\n"
     ]
    }
   ],
   "source": [
    "print(v7[1:4])"
   ]
  },
  {
   "cell_type": "code",
   "execution_count": 71,
   "metadata": {},
   "outputs": [
    {
     "name": "stdout",
     "output_type": "stream",
     "text": [
      "Index = slice(1, 4, None)\n",
      "I'm a slice\n",
      "(1.0, 2.0, 3.0)\n",
      "Vector([1.0, 2.0, 3.0])\n",
      "(1.0, 2.0, 3.0)\n"
     ]
    }
   ],
   "source": [
    "v8 = Vector(range(8))\n",
    "print(\"{0!r}\\n{0!s}\".format(v8[1:4]))"
   ]
  },
  {
   "cell_type": "code",
   "execution_count": 72,
   "metadata": {},
   "outputs": [
    {
     "name": "stdout",
     "output_type": "stream",
     "text": [
      "Index = (1, 2)\n"
     ]
    },
    {
     "ename": "TypeError",
     "evalue": "Index must be integer or slice./nYou selected: (1, 2)",
     "output_type": "error",
     "traceback": [
      "\u001b[1;31m---------------------------------------------------------------------------\u001b[0m",
      "\u001b[1;31mTypeError\u001b[0m                                 Traceback (most recent call last)",
      "\u001b[1;32m<ipython-input-72-4eda56b68ac3>\u001b[0m in \u001b[0;36m<module>\u001b[1;34m\u001b[0m\n\u001b[1;32m----> 1\u001b[1;33m \u001b[0mv8\u001b[0m\u001b[1;33m[\u001b[0m\u001b[1;36m1\u001b[0m\u001b[1;33m,\u001b[0m\u001b[1;36m2\u001b[0m\u001b[1;33m]\u001b[0m\u001b[1;33m\u001b[0m\u001b[1;33m\u001b[0m\u001b[0m\n\u001b[0m",
      "\u001b[1;32m<ipython-input-65-eb5cb796232b>\u001b[0m in \u001b[0;36m__getitem__\u001b[1;34m(self, index)\u001b[0m\n\u001b[0;32m     55\u001b[0m             \u001b[1;32mreturn\u001b[0m \u001b[0mself\u001b[0m\u001b[1;33m.\u001b[0m\u001b[0m_components\u001b[0m\u001b[1;33m[\u001b[0m\u001b[0mindex\u001b[0m\u001b[1;33m]\u001b[0m\u001b[1;33m\u001b[0m\u001b[1;33m\u001b[0m\u001b[0m\n\u001b[0;32m     56\u001b[0m         \u001b[1;32melse\u001b[0m\u001b[1;33m:\u001b[0m\u001b[1;33m\u001b[0m\u001b[1;33m\u001b[0m\u001b[0m\n\u001b[1;32m---> 57\u001b[1;33m             \u001b[1;32mraise\u001b[0m \u001b[0mTypeError\u001b[0m\u001b[1;33m(\u001b[0m\u001b[1;34mf'Index must be integer or slice./nYou selected: {index}'\u001b[0m\u001b[1;33m)\u001b[0m\u001b[1;33m\u001b[0m\u001b[1;33m\u001b[0m\u001b[0m\n\u001b[0m",
      "\u001b[1;31mTypeError\u001b[0m: Index must be integer or slice./nYou selected: (1, 2)"
     ]
    }
   ],
   "source": [
    "v8[1,2]"
   ]
  },
  {
   "cell_type": "code",
   "execution_count": null,
   "metadata": {},
   "outputs": [],
   "source": []
  }
 ],
 "metadata": {
  "kernelspec": {
   "display_name": "Python 3",
   "language": "python",
   "name": "python3"
  },
  "language_info": {
   "codemirror_mode": {
    "name": "ipython",
    "version": 3
   },
   "file_extension": ".py",
   "mimetype": "text/x-python",
   "name": "python",
   "nbconvert_exporter": "python",
   "pygments_lexer": "ipython3",
   "version": "3.8.2"
  }
 },
 "nbformat": 4,
 "nbformat_minor": 4
}
