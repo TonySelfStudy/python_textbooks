{
 "cells": [
  {
   "cell_type": "code",
   "execution_count": null,
   "metadata": {},
   "outputs": [],
   "source": [
    "# Hashing Tutorial at:\n",
    "# http://zetcode.com/python/hashing/\n",
    "# https://www.programiz.com/python-programming/methods/built-in/hash"
   ]
  },
  {
   "cell_type": "code",
   "execution_count": 1,
   "metadata": {},
   "outputs": [
    {
     "name": "stdout",
     "output_type": "stream",
     "text": [
      "100\n",
      "-180769793\n",
      "1956216267\n"
     ]
    }
   ],
   "source": [
    "val = 100\n",
    "\n",
    "print(val.__hash__())\n",
    "print(\"falcon\".__hash__())\n",
    "print((1,).__hash__())"
   ]
  },
  {
   "cell_type": "code",
   "execution_count": 3,
   "metadata": {
    "collapsed": true,
    "jupyter": {
     "outputs_hidden": true
    }
   },
   "outputs": [
    {
     "data": {
      "text/plain": [
       "['__call__',\n",
       " '__class__',\n",
       " '__delattr__',\n",
       " '__dir__',\n",
       " '__doc__',\n",
       " '__eq__',\n",
       " '__format__',\n",
       " '__ge__',\n",
       " '__getattribute__',\n",
       " '__gt__',\n",
       " '__hash__',\n",
       " '__init__',\n",
       " '__init_subclass__',\n",
       " '__le__',\n",
       " '__lt__',\n",
       " '__name__',\n",
       " '__ne__',\n",
       " '__new__',\n",
       " '__objclass__',\n",
       " '__qualname__',\n",
       " '__reduce__',\n",
       " '__reduce_ex__',\n",
       " '__repr__',\n",
       " '__self__',\n",
       " '__setattr__',\n",
       " '__sizeof__',\n",
       " '__str__',\n",
       " '__subclasshook__',\n",
       " '__text_signature__']"
      ]
     },
     "execution_count": 3,
     "metadata": {},
     "output_type": "execute_result"
    }
   ],
   "source": [
    "dir(val.__hash__)"
   ]
  },
  {
   "cell_type": "code",
   "execution_count": 6,
   "metadata": {},
   "outputs": [
    {
     "name": "stdout",
     "output_type": "stream",
     "text": [
      "Return self==value.\n"
     ]
    }
   ],
   "source": [
    "print(val.__eq__.__doc__)"
   ]
  },
  {
   "cell_type": "code",
   "execution_count": 18,
   "metadata": {},
   "outputs": [
    {
     "name": "stdout",
     "output_type": "stream",
     "text": [
      "<class 'list'> ['hey', 'there']\n",
      "<class 'int'> 43\n",
      "<class 'int'> 32\n",
      "{'Austria': 43, 'Belgium': 32, 'Bulgaria': 359, 'Croatia': 385, 'Cyprus': 357, 'Czech Republic': 420, 'Denmark': 45, 'Estonia': 372, 'Finland': 358, 'coo-coo-stan': ['hey', 'there']}\n"
     ]
    }
   ],
   "source": [
    "country_codes = (\n",
    "                ('Austria', 43),\n",
    "                ('Belgium', 32),\n",
    "                ('Bulgaria', 359),\n",
    "                ('Croatia', 385),\n",
    "                ('Cyprus', 357),\n",
    "                ('Czech Republic', 420),\n",
    "                ('Denmark', 45),\n",
    "                ('Estonia', 372),\n",
    "                ('Finland', 358)\n",
    "                )\n",
    "dict1 = {k: v for k, v in country_codes}\n",
    "a = dict1.setdefault('coo-coo-stan', ['hey', 'there'])\n",
    "b = dict1.setdefault('Austria', -99)\n",
    "c = dict1.setdefault('Belgium', ['got', 'waffles'])\n",
    "print(type(a), a)\n",
    "print(type(b), b)\n",
    "print(type(c), c)\n",
    "\n",
    "print(dict1)"
   ]
  },
  {
   "cell_type": "code",
   "execution_count": 24,
   "metadata": {},
   "outputs": [
    {
     "ename": "KeyError",
     "evalue": "'missing_key'",
     "output_type": "error",
     "traceback": [
      "\u001b[1;31m---------------------------------------------------------------------------\u001b[0m",
      "\u001b[1;31mKeyError\u001b[0m                                  Traceback (most recent call last)",
      "\u001b[1;32m<ipython-input-24-51f253831e07>\u001b[0m in \u001b[0;36m<module>\u001b[1;34m\u001b[0m\n\u001b[0;32m      1\u001b[0m \u001b[0ma_dict\u001b[0m \u001b[1;33m=\u001b[0m \u001b[1;33m{\u001b[0m\u001b[1;33m}\u001b[0m\u001b[1;33m\u001b[0m\u001b[1;33m\u001b[0m\u001b[0m\n\u001b[1;32m----> 2\u001b[1;33m \u001b[0ma_dict\u001b[0m\u001b[1;33m[\u001b[0m\u001b[1;34m'missing_key'\u001b[0m\u001b[1;33m]\u001b[0m\u001b[1;33m\u001b[0m\u001b[1;33m\u001b[0m\u001b[0m\n\u001b[0m",
      "\u001b[1;31mKeyError\u001b[0m: 'missing_key'"
     ]
    }
   ],
   "source": [
    "a_dict = {}\n",
    "a_dict['missing_key']"
   ]
  },
  {
   "cell_type": "code",
   "execution_count": 25,
   "metadata": {},
   "outputs": [
    {
     "name": "stdout",
     "output_type": "stream",
     "text": [
      "{'missing_key': 'default value'}\n"
     ]
    }
   ],
   "source": [
    "a_dict.setdefault('missing_key', 'default value')\n",
    "a_dict['missing_key']\n",
    "print(a_dict)"
   ]
  },
  {
   "cell_type": "code",
   "execution_count": 26,
   "metadata": {},
   "outputs": [
    {
     "name": "stdout",
     "output_type": "stream",
     "text": [
      "default value {'missing_key': 'default value'}\n"
     ]
    }
   ],
   "source": [
    "a = a_dict.setdefault('missing_key', 'another default value')\n",
    "print(a, a_dict)"
   ]
  },
  {
   "cell_type": "code",
   "execution_count": 27,
   "metadata": {},
   "outputs": [
    {
     "name": "stdout",
     "output_type": "stream",
     "text": [
      "a: 1 2073163696 1\n",
      "b: 1.0 111146384 1\n",
      "object equality:  False\n",
      "value equality:  True\n",
      "hash equality:  True\n"
     ]
    }
   ],
   "source": [
    "a = 1\n",
    "b = 1.0\n",
    "print(\"a:\", a, id(a), hash(a))\n",
    "print(\"b:\", b, id(b), hash(b))\n",
    "print(\"object equality: \", a is b)\n",
    "print(\"value equality: \", a == b)\n",
    "print(\"hash equality: \", hash(a) == hash(b))"
   ]
  },
  {
   "cell_type": "code",
   "execution_count": 29,
   "metadata": {},
   "outputs": [
    {
     "name": "stdout",
     "output_type": "stream",
     "text": [
      "a: a 16402496 623651990\n",
      "b: a 16402496 623651990\n",
      "object equality:  True\n",
      "value equality:  True\n",
      "hash equality:  True\n"
     ]
    }
   ],
   "source": [
    "a = 'a'\n",
    "b = 'a'\n",
    "print(\"a:\", a, id(a), hash(a))\n",
    "print(\"b:\", b, id(b), hash(b))\n",
    "print(\"object equality: \", a is b)\n",
    "print(\"value equality: \", a == b)\n",
    "print(\"hash equality: \", hash(a) == hash(b))"
   ]
  },
  {
   "cell_type": "code",
   "execution_count": 30,
   "metadata": {},
   "outputs": [
    {
     "name": "stdout",
     "output_type": "stream",
     "text": [
      "Help on built-in function hash in module builtins:\n",
      "\n",
      "hash(obj, /)\n",
      "    Return the hash value for the given object.\n",
      "    \n",
      "    Two objects that compare equal must also have the same hash value, but the\n",
      "    reverse is not necessarily true.\n",
      "\n"
     ]
    }
   ],
   "source": [
    "help(hash)"
   ]
  },
  {
   "cell_type": "code",
   "execution_count": null,
   "metadata": {},
   "outputs": [],
   "source": []
  }
 ],
 "metadata": {
  "kernelspec": {
   "display_name": "Python 3",
   "language": "python",
   "name": "python3"
  },
  "language_info": {
   "codemirror_mode": {
    "name": "ipython",
    "version": 3
   },
   "file_extension": ".py",
   "mimetype": "text/x-python",
   "name": "python",
   "nbconvert_exporter": "python",
   "pygments_lexer": "ipython3",
   "version": "3.8.2"
  }
 },
 "nbformat": 4,
 "nbformat_minor": 4
}
