{
 "cells": [
  {
   "cell_type": "code",
   "execution_count": null,
   "metadata": {},
   "outputs": [],
   "source": [
    "# Notes from reading/studying Fluent Python by Luciano Ramalho\n",
    "# Chapter 1\n",
    "# Created 9/14/20"
   ]
  },
  {
   "cell_type": "code",
   "execution_count": 88,
   "metadata": {},
   "outputs": [],
   "source": [
    "# Docs on collection types: https://docs.python.org/3/library/collections.html\n",
    "import collections\n",
    "import random"
   ]
  },
  {
   "cell_type": "code",
   "execution_count": 2,
   "metadata": {
    "collapsed": true,
    "jupyter": {
     "outputs_hidden": true
    }
   },
   "outputs": [
    {
     "name": "stdout",
     "output_type": "stream",
     "text": [
      "Help on function namedtuple in module collections:\n",
      "\n",
      "namedtuple(typename, field_names, *, rename=False, defaults=None, module=None)\n",
      "    Returns a new subclass of tuple with named fields.\n",
      "    \n",
      "    >>> Point = namedtuple('Point', ['x', 'y'])\n",
      "    >>> Point.__doc__                   # docstring for the new class\n",
      "    'Point(x, y)'\n",
      "    >>> p = Point(11, y=22)             # instantiate with positional args or keywords\n",
      "    >>> p[0] + p[1]                     # indexable like a plain tuple\n",
      "    33\n",
      "    >>> x, y = p                        # unpack like a regular tuple\n",
      "    >>> x, y\n",
      "    (11, 22)\n",
      "    >>> p.x + p.y                       # fields also accessible by name\n",
      "    33\n",
      "    >>> d = p._asdict()                 # convert to a dictionary\n",
      "    >>> d['x']\n",
      "    11\n",
      "    >>> Point(**d)                      # convert from a dictionary\n",
      "    Point(x=11, y=22)\n",
      "    >>> p._replace(x=100)               # _replace() is like str.replace() but targets named fields\n",
      "    Point(x=100, y=22)\n",
      "\n"
     ]
    }
   ],
   "source": [
    "help(collections.namedtuple)"
   ]
  },
  {
   "cell_type": "code",
   "execution_count": 2,
   "metadata": {},
   "outputs": [],
   "source": [
    "Card_Maker = collections.namedtuple(\"Card\", [\"Suit\", \"Rank\"])"
   ]
  },
  {
   "cell_type": "code",
   "execution_count": 3,
   "metadata": {},
   "outputs": [
    {
     "data": {
      "text/plain": [
       "type"
      ]
     },
     "execution_count": 3,
     "metadata": {},
     "output_type": "execute_result"
    }
   ],
   "source": [
    "type(Card_Maker)"
   ]
  },
  {
   "cell_type": "code",
   "execution_count": 4,
   "metadata": {
    "collapsed": true,
    "jupyter": {
     "outputs_hidden": true
    }
   },
   "outputs": [
    {
     "data": {
      "text/plain": [
       "['Rank',\n",
       " 'Suit',\n",
       " '__add__',\n",
       " '__class__',\n",
       " '__contains__',\n",
       " '__delattr__',\n",
       " '__dir__',\n",
       " '__doc__',\n",
       " '__eq__',\n",
       " '__format__',\n",
       " '__ge__',\n",
       " '__getattribute__',\n",
       " '__getitem__',\n",
       " '__getnewargs__',\n",
       " '__gt__',\n",
       " '__hash__',\n",
       " '__init__',\n",
       " '__init_subclass__',\n",
       " '__iter__',\n",
       " '__le__',\n",
       " '__len__',\n",
       " '__lt__',\n",
       " '__module__',\n",
       " '__mul__',\n",
       " '__ne__',\n",
       " '__new__',\n",
       " '__reduce__',\n",
       " '__reduce_ex__',\n",
       " '__repr__',\n",
       " '__rmul__',\n",
       " '__setattr__',\n",
       " '__sizeof__',\n",
       " '__slots__',\n",
       " '__str__',\n",
       " '__subclasshook__',\n",
       " '_asdict',\n",
       " '_field_defaults',\n",
       " '_fields',\n",
       " '_fields_defaults',\n",
       " '_make',\n",
       " '_replace',\n",
       " 'count',\n",
       " 'index']"
      ]
     },
     "execution_count": 4,
     "metadata": {},
     "output_type": "execute_result"
    }
   ],
   "source": [
    "dir(Card_Maker)"
   ]
  },
  {
   "cell_type": "code",
   "execution_count": 7,
   "metadata": {},
   "outputs": [
    {
     "name": "stdout",
     "output_type": "stream",
     "text": [
      "<class '__main__.Card'> Card(Suit='Hearts', Rank='J')\n"
     ]
    }
   ],
   "source": [
    "card1 = Card_Maker(\"Hearts\", \"J\")\n",
    "print(type(card1), card1)"
   ]
  },
  {
   "cell_type": "code",
   "execution_count": 15,
   "metadata": {},
   "outputs": [
    {
     "name": "stdout",
     "output_type": "stream",
     "text": [
      "['Clubs', 'Hearts', 'Diamonds', 'Spades'] ['2', '3', '4', '5', '6', '7', '8', '9', '10', 'J', 'Q', 'K', 'A']\n"
     ]
    }
   ],
   "source": [
    "suits = [\"Clubs\", \"Hearts\", \"Diamonds\", \"Spades\"]\n",
    "ranks = [str(i) for i in range(2, 11)] + [\"J\", \"Q\", \"K\", \"A\"]\n",
    "print(suits, ranks)"
   ]
  },
  {
   "cell_type": "code",
   "execution_count": 16,
   "metadata": {},
   "outputs": [
    {
     "name": "stdout",
     "output_type": "stream",
     "text": [
      "[Card(Suit='Clubs', Rank='2'), Card(Suit='Clubs', Rank='3'), Card(Suit='Clubs', Rank='4'), Card(Suit='Clubs', Rank='5'), Card(Suit='Clubs', Rank='6'), Card(Suit='Clubs', Rank='7'), Card(Suit='Clubs', Rank='8'), Card(Suit='Clubs', Rank='9'), Card(Suit='Clubs', Rank='10'), Card(Suit='Clubs', Rank='J'), Card(Suit='Clubs', Rank='Q'), Card(Suit='Clubs', Rank='K'), Card(Suit='Clubs', Rank='A'), Card(Suit='Hearts', Rank='2'), Card(Suit='Hearts', Rank='3'), Card(Suit='Hearts', Rank='4'), Card(Suit='Hearts', Rank='5'), Card(Suit='Hearts', Rank='6'), Card(Suit='Hearts', Rank='7'), Card(Suit='Hearts', Rank='8'), Card(Suit='Hearts', Rank='9'), Card(Suit='Hearts', Rank='10'), Card(Suit='Hearts', Rank='J'), Card(Suit='Hearts', Rank='Q'), Card(Suit='Hearts', Rank='K'), Card(Suit='Hearts', Rank='A'), Card(Suit='Diamonds', Rank='2'), Card(Suit='Diamonds', Rank='3'), Card(Suit='Diamonds', Rank='4'), Card(Suit='Diamonds', Rank='5'), Card(Suit='Diamonds', Rank='6'), Card(Suit='Diamonds', Rank='7'), Card(Suit='Diamonds', Rank='8'), Card(Suit='Diamonds', Rank='9'), Card(Suit='Diamonds', Rank='10'), Card(Suit='Diamonds', Rank='J'), Card(Suit='Diamonds', Rank='Q'), Card(Suit='Diamonds', Rank='K'), Card(Suit='Diamonds', Rank='A'), Card(Suit='Spades', Rank='2'), Card(Suit='Spades', Rank='3'), Card(Suit='Spades', Rank='4'), Card(Suit='Spades', Rank='5'), Card(Suit='Spades', Rank='6'), Card(Suit='Spades', Rank='7'), Card(Suit='Spades', Rank='8'), Card(Suit='Spades', Rank='9'), Card(Suit='Spades', Rank='10'), Card(Suit='Spades', Rank='J'), Card(Suit='Spades', Rank='Q'), Card(Suit='Spades', Rank='K'), Card(Suit='Spades', Rank='A')]\n"
     ]
    }
   ],
   "source": [
    "deck1 = []\n",
    "for i in suits:\n",
    "    for j in ranks:\n",
    "        card = Card_Maker(i, j)\n",
    "        deck.append(card)\n",
    "# print(deck)"
   ]
  },
  {
   "cell_type": "code",
   "execution_count": 19,
   "metadata": {},
   "outputs": [
    {
     "name": "stdout",
     "output_type": "stream",
     "text": [
      "[[Card(Suit='Clubs', Rank='2'), Card(Suit='Clubs', Rank='3'), Card(Suit='Clubs', Rank='4'), Card(Suit='Clubs', Rank='5'), Card(Suit='Clubs', Rank='6'), Card(Suit='Clubs', Rank='7'), Card(Suit='Clubs', Rank='8'), Card(Suit='Clubs', Rank='9'), Card(Suit='Clubs', Rank='10'), Card(Suit='Clubs', Rank='J'), Card(Suit='Clubs', Rank='Q'), Card(Suit='Clubs', Rank='K'), Card(Suit='Clubs', Rank='A')], [Card(Suit='Hearts', Rank='2'), Card(Suit='Hearts', Rank='3'), Card(Suit='Hearts', Rank='4'), Card(Suit='Hearts', Rank='5'), Card(Suit='Hearts', Rank='6'), Card(Suit='Hearts', Rank='7'), Card(Suit='Hearts', Rank='8'), Card(Suit='Hearts', Rank='9'), Card(Suit='Hearts', Rank='10'), Card(Suit='Hearts', Rank='J'), Card(Suit='Hearts', Rank='Q'), Card(Suit='Hearts', Rank='K'), Card(Suit='Hearts', Rank='A')], [Card(Suit='Diamonds', Rank='2'), Card(Suit='Diamonds', Rank='3'), Card(Suit='Diamonds', Rank='4'), Card(Suit='Diamonds', Rank='5'), Card(Suit='Diamonds', Rank='6'), Card(Suit='Diamonds', Rank='7'), Card(Suit='Diamonds', Rank='8'), Card(Suit='Diamonds', Rank='9'), Card(Suit='Diamonds', Rank='10'), Card(Suit='Diamonds', Rank='J'), Card(Suit='Diamonds', Rank='Q'), Card(Suit='Diamonds', Rank='K'), Card(Suit='Diamonds', Rank='A')], [Card(Suit='Spades', Rank='2'), Card(Suit='Spades', Rank='3'), Card(Suit='Spades', Rank='4'), Card(Suit='Spades', Rank='5'), Card(Suit='Spades', Rank='6'), Card(Suit='Spades', Rank='7'), Card(Suit='Spades', Rank='8'), Card(Suit='Spades', Rank='9'), Card(Suit='Spades', Rank='10'), Card(Suit='Spades', Rank='J'), Card(Suit='Spades', Rank='Q'), Card(Suit='Spades', Rank='K'), Card(Suit='Spades', Rank='A')]]\n"
     ]
    }
   ],
   "source": [
    "deck2 = [[Card_Maker(i,j) for j in ranks] for i in suits]\n",
    "# print(deck2)"
   ]
  },
  {
   "cell_type": "code",
   "execution_count": 21,
   "metadata": {},
   "outputs": [
    {
     "name": "stdout",
     "output_type": "stream",
     "text": [
      "[Card(Suit='Clubs', Rank='2'), Card(Suit='Clubs', Rank='3'), Card(Suit='Clubs', Rank='4'), Card(Suit='Clubs', Rank='5'), Card(Suit='Clubs', Rank='6'), Card(Suit='Clubs', Rank='7'), Card(Suit='Clubs', Rank='8'), Card(Suit='Clubs', Rank='9'), Card(Suit='Clubs', Rank='10'), Card(Suit='Clubs', Rank='J'), Card(Suit='Clubs', Rank='Q'), Card(Suit='Clubs', Rank='K'), Card(Suit='Clubs', Rank='A'), Card(Suit='Hearts', Rank='2'), Card(Suit='Hearts', Rank='3'), Card(Suit='Hearts', Rank='4'), Card(Suit='Hearts', Rank='5'), Card(Suit='Hearts', Rank='6'), Card(Suit='Hearts', Rank='7'), Card(Suit='Hearts', Rank='8'), Card(Suit='Hearts', Rank='9'), Card(Suit='Hearts', Rank='10'), Card(Suit='Hearts', Rank='J'), Card(Suit='Hearts', Rank='Q'), Card(Suit='Hearts', Rank='K'), Card(Suit='Hearts', Rank='A'), Card(Suit='Diamonds', Rank='2'), Card(Suit='Diamonds', Rank='3'), Card(Suit='Diamonds', Rank='4'), Card(Suit='Diamonds', Rank='5'), Card(Suit='Diamonds', Rank='6'), Card(Suit='Diamonds', Rank='7'), Card(Suit='Diamonds', Rank='8'), Card(Suit='Diamonds', Rank='9'), Card(Suit='Diamonds', Rank='10'), Card(Suit='Diamonds', Rank='J'), Card(Suit='Diamonds', Rank='Q'), Card(Suit='Diamonds', Rank='K'), Card(Suit='Diamonds', Rank='A'), Card(Suit='Spades', Rank='2'), Card(Suit='Spades', Rank='3'), Card(Suit='Spades', Rank='4'), Card(Suit='Spades', Rank='5'), Card(Suit='Spades', Rank='6'), Card(Suit='Spades', Rank='7'), Card(Suit='Spades', Rank='8'), Card(Suit='Spades', Rank='9'), Card(Suit='Spades', Rank='10'), Card(Suit='Spades', Rank='J'), Card(Suit='Spades', Rank='Q'), Card(Suit='Spades', Rank='K'), Card(Suit='Spades', Rank='A')]\n"
     ]
    }
   ],
   "source": [
    "deck3 = [Card_Maker(i,j) for i in suits for j in ranks]\n",
    "# print(deck3)"
   ]
  },
  {
   "cell_type": "code",
   "execution_count": 23,
   "metadata": {},
   "outputs": [],
   "source": [
    "# Practicing nested list comprehensions, examples from:\n",
    "# https://www.geeksforgeeks.org/nested-list-comprehensions-in-python/#:~:text=It%20is%20a%20smart%20and,similar%20to%20nested%20for%20loops."
   ]
  },
  {
   "cell_type": "code",
   "execution_count": 25,
   "metadata": {},
   "outputs": [
    {
     "name": "stdout",
     "output_type": "stream",
     "text": [
      "[[0, 1, 2, 3, 4], [0, 1, 2, 3, 4], [0, 1, 2, 3, 4], [0, 1, 2, 3, 4], [0, 1, 2, 3, 4], [0, 1, 2, 3, 4]]\n"
     ]
    }
   ],
   "source": [
    "m1 = [[i for i in range(5)] for j in range(6)]\n",
    "print(m1)"
   ]
  },
  {
   "cell_type": "code",
   "execution_count": 26,
   "metadata": {},
   "outputs": [
    {
     "name": "stdout",
     "output_type": "stream",
     "text": [
      "[(0, 0), (0, 1), (0, 2), (0, 3), (0, 4), (0, 5), (1, 0), (1, 1), (1, 2), (1, 3), (1, 4), (1, 5), (2, 0), (2, 1), (2, 2), (2, 3), (2, 4), (2, 5), (3, 0), (3, 1), (3, 2), (3, 3), (3, 4), (3, 5), (4, 0), (4, 1), (4, 2), (4, 3), (4, 4), (4, 5)]\n"
     ]
    }
   ],
   "source": [
    "m2 = [(i,j) for i in range(5) for j in range(6)]\n",
    "print(m2)"
   ]
  },
  {
   "cell_type": "code",
   "execution_count": 29,
   "metadata": {},
   "outputs": [
    {
     "name": "stdout",
     "output_type": "stream",
     "text": [
      "[[1, 2, 3], [4, 5, 6], [7, 8, 9]]\n",
      "[1, 2, 3, 4, 5, 6, 7, 8, 9]\n"
     ]
    }
   ],
   "source": [
    "m3 = [[1, 2, 3], [4, 5, 6], [7, 8, 9]]\n",
    "m4 = [j for i in m3 for j in i]\n",
    "print(m3)\n",
    "print(m4)"
   ]
  },
  {
   "cell_type": "code",
   "execution_count": 83,
   "metadata": {},
   "outputs": [
    {
     "name": "stdout",
     "output_type": "stream",
     "text": [
      "[['Mercury', 'Venus', 'Earth'], ['Mars', 'Jupiter', 'Saturn'], ['Uranus', 'Neptune', 'Pluto']]\n",
      "['Venus', 'Earth', 'Mars', 'Pluto']\n"
     ]
    }
   ],
   "source": [
    "planets = [['Mercury', 'Venus', 'Earth'], ['Mars', 'Jupiter', 'Saturn'], ['Uranus', 'Neptune', 'Pluto']]\n",
    "planet_6_dig = [p for subgroup in planets \n",
    "                  for p in subgroup \n",
    "                    if len(p)<6]\n",
    "print(planets)\n",
    "print(planet_6_dig)"
   ]
  },
  {
   "cell_type": "code",
   "execution_count": 89,
   "metadata": {},
   "outputs": [
    {
     "name": "stdout",
     "output_type": "stream",
     "text": [
      "Card(Suit='Clubs', Rank='2')\n",
      "Card(Suit='Spades', Rank='A')\n",
      "True\n",
      "False\n"
     ]
    }
   ],
   "source": [
    "class deck:\n",
    "    Card_Maker = collections.namedtuple(\"Card\", [\"Rank\", \"Suit\"])\n",
    "    suits = [\"Clubs\", \"Diamonds\", \"Hearts\", \"Spades\"]\n",
    "    ranks = [str(i) for i in range(2, 11)] + [\"J\", \"Q\", \"K\", \"A\"]\n",
    "    \n",
    "    def __init__(self):\n",
    "        self._cards = [Card_Maker(suit, rank) for suit in suits for rank in ranks]\n",
    "    def __len__(self):\n",
    "        return len(self._cards)\n",
    "    def __getitem__(self, key):\n",
    "        return self._cards[key]\n",
    "    def draw_cards(self, num):\n",
    "        return random.sample(self._cards, num)\n",
    "\n",
    "        \n",
    "    \n",
    "    @staticmethod\n",
    "    def card_val(card):\n",
    "        suit = deck.suits.index(card.Suit)\n",
    "        rank = deck.ranks.index(card.Rank)\n",
    "        return rank * len(suits) + suit\n",
    "\n",
    "    \n",
    "deck1 = deck()\n",
    "deck2 = deck()\n",
    "print(deck1[0])\n",
    "print(deck2[-1])\n",
    "print(deck1[10]==deck2[10])\n",
    "print(deck1[10] is deck2[10])        "
   ]
  },
  {
   "cell_type": "code",
   "execution_count": 78,
   "metadata": {},
   "outputs": [
    {
     "name": "stdout",
     "output_type": "stream",
     "text": [
      "[Card(Suit='Clubs', Rank='2'), Card(Suit='Clubs', Rank='3'), Card(Suit='Clubs', Rank='4')]\n",
      "[Card(Suit='Spades', Rank='Q'), Card(Suit='Spades', Rank='K'), Card(Suit='Spades', Rank='A')]\n"
     ]
    }
   ],
   "source": [
    "print(deck1[0:3])\n",
    "print(deck1[-3:])"
   ]
  },
  {
   "cell_type": "code",
   "execution_count": 79,
   "metadata": {},
   "outputs": [
    {
     "name": "stdout",
     "output_type": "stream",
     "text": [
      "[Card(Suit='Clubs', Rank='A'), Card(Suit='Hearts', Rank='A'), Card(Suit='Diamonds', Rank='A'), Card(Suit='Spades', Rank='A')]\n"
     ]
    }
   ],
   "source": [
    "print(deck1[12::13])"
   ]
  },
  {
   "cell_type": "code",
   "execution_count": 84,
   "metadata": {},
   "outputs": [
    {
     "name": "stdout",
     "output_type": "stream",
     "text": [
      "Card(Suit='Clubs', Rank='2')\n",
      "Card(Suit='Diamonds', Rank='2')\n",
      "Card(Suit='Hearts', Rank='2')\n",
      "Card(Suit='Spades', Rank='2')\n",
      "Card(Suit='Clubs', Rank='3')\n",
      "Card(Suit='Diamonds', Rank='3')\n",
      "Card(Suit='Hearts', Rank='3')\n",
      "Card(Suit='Spades', Rank='3')\n",
      "Card(Suit='Clubs', Rank='4')\n",
      "Card(Suit='Diamonds', Rank='4')\n",
      "Card(Suit='Hearts', Rank='4')\n",
      "Card(Suit='Spades', Rank='4')\n",
      "Card(Suit='Clubs', Rank='5')\n",
      "Card(Suit='Diamonds', Rank='5')\n",
      "Card(Suit='Hearts', Rank='5')\n",
      "Card(Suit='Spades', Rank='5')\n",
      "Card(Suit='Clubs', Rank='6')\n",
      "Card(Suit='Diamonds', Rank='6')\n",
      "Card(Suit='Hearts', Rank='6')\n",
      "Card(Suit='Spades', Rank='6')\n",
      "Card(Suit='Clubs', Rank='7')\n",
      "Card(Suit='Diamonds', Rank='7')\n",
      "Card(Suit='Hearts', Rank='7')\n",
      "Card(Suit='Spades', Rank='7')\n",
      "Card(Suit='Clubs', Rank='8')\n",
      "Card(Suit='Diamonds', Rank='8')\n",
      "Card(Suit='Hearts', Rank='8')\n",
      "Card(Suit='Spades', Rank='8')\n",
      "Card(Suit='Clubs', Rank='9')\n",
      "Card(Suit='Diamonds', Rank='9')\n",
      "Card(Suit='Hearts', Rank='9')\n",
      "Card(Suit='Spades', Rank='9')\n",
      "Card(Suit='Clubs', Rank='10')\n",
      "Card(Suit='Diamonds', Rank='10')\n",
      "Card(Suit='Hearts', Rank='10')\n",
      "Card(Suit='Spades', Rank='10')\n",
      "Card(Suit='Clubs', Rank='J')\n",
      "Card(Suit='Diamonds', Rank='J')\n",
      "Card(Suit='Hearts', Rank='J')\n",
      "Card(Suit='Spades', Rank='J')\n",
      "Card(Suit='Clubs', Rank='Q')\n",
      "Card(Suit='Diamonds', Rank='Q')\n",
      "Card(Suit='Hearts', Rank='Q')\n",
      "Card(Suit='Spades', Rank='Q')\n",
      "Card(Suit='Clubs', Rank='K')\n",
      "Card(Suit='Diamonds', Rank='K')\n",
      "Card(Suit='Hearts', Rank='K')\n",
      "Card(Suit='Spades', Rank='K')\n",
      "Card(Suit='Clubs', Rank='A')\n",
      "Card(Suit='Diamonds', Rank='A')\n",
      "Card(Suit='Hearts', Rank='A')\n",
      "Card(Suit='Spades', Rank='A')\n"
     ]
    }
   ],
   "source": [
    "for i in sorted(deck1, key=deck.card_val):\n",
    "    print(i)"
   ]
  },
  {
   "cell_type": "code",
   "execution_count": 85,
   "metadata": {},
   "outputs": [
    {
     "name": "stdout",
     "output_type": "stream",
     "text": [
      "Card(Suit='Spades', Rank='A')\n",
      "Card(Suit='Hearts', Rank='A')\n",
      "Card(Suit='Diamonds', Rank='A')\n",
      "Card(Suit='Clubs', Rank='A')\n",
      "Card(Suit='Spades', Rank='K')\n",
      "Card(Suit='Hearts', Rank='K')\n",
      "Card(Suit='Diamonds', Rank='K')\n",
      "Card(Suit='Clubs', Rank='K')\n",
      "Card(Suit='Spades', Rank='Q')\n",
      "Card(Suit='Hearts', Rank='Q')\n",
      "Card(Suit='Diamonds', Rank='Q')\n",
      "Card(Suit='Clubs', Rank='Q')\n",
      "Card(Suit='Spades', Rank='J')\n",
      "Card(Suit='Hearts', Rank='J')\n",
      "Card(Suit='Diamonds', Rank='J')\n",
      "Card(Suit='Clubs', Rank='J')\n",
      "Card(Suit='Spades', Rank='10')\n",
      "Card(Suit='Hearts', Rank='10')\n",
      "Card(Suit='Diamonds', Rank='10')\n",
      "Card(Suit='Clubs', Rank='10')\n",
      "Card(Suit='Spades', Rank='9')\n",
      "Card(Suit='Hearts', Rank='9')\n",
      "Card(Suit='Diamonds', Rank='9')\n",
      "Card(Suit='Clubs', Rank='9')\n",
      "Card(Suit='Spades', Rank='8')\n",
      "Card(Suit='Hearts', Rank='8')\n",
      "Card(Suit='Diamonds', Rank='8')\n",
      "Card(Suit='Clubs', Rank='8')\n",
      "Card(Suit='Spades', Rank='7')\n",
      "Card(Suit='Hearts', Rank='7')\n",
      "Card(Suit='Diamonds', Rank='7')\n",
      "Card(Suit='Clubs', Rank='7')\n",
      "Card(Suit='Spades', Rank='6')\n",
      "Card(Suit='Hearts', Rank='6')\n",
      "Card(Suit='Diamonds', Rank='6')\n",
      "Card(Suit='Clubs', Rank='6')\n",
      "Card(Suit='Spades', Rank='5')\n",
      "Card(Suit='Hearts', Rank='5')\n",
      "Card(Suit='Diamonds', Rank='5')\n",
      "Card(Suit='Clubs', Rank='5')\n",
      "Card(Suit='Spades', Rank='4')\n",
      "Card(Suit='Hearts', Rank='4')\n",
      "Card(Suit='Diamonds', Rank='4')\n",
      "Card(Suit='Clubs', Rank='4')\n",
      "Card(Suit='Spades', Rank='3')\n",
      "Card(Suit='Hearts', Rank='3')\n",
      "Card(Suit='Diamonds', Rank='3')\n",
      "Card(Suit='Clubs', Rank='3')\n",
      "Card(Suit='Spades', Rank='2')\n",
      "Card(Suit='Hearts', Rank='2')\n",
      "Card(Suit='Diamonds', Rank='2')\n",
      "Card(Suit='Clubs', Rank='2')\n"
     ]
    }
   ],
   "source": [
    "for i in sorted(deck1, key=deck.card_val, reverse=True):\n",
    "    print(i)"
   ]
  },
  {
   "cell_type": "code",
   "execution_count": 87,
   "metadata": {},
   "outputs": [],
   "source": []
  },
  {
   "cell_type": "code",
   "execution_count": 103,
   "metadata": {},
   "outputs": [
    {
     "name": "stdout",
     "output_type": "stream",
     "text": [
      "[Card(Suit='Hearts', Rank='6'), Card(Suit='Clubs', Rank='3'), Card(Suit='Spades', Rank='5'), Card(Suit='Diamonds', Rank='4'), Card(Suit='Clubs', Rank='Q'), Card(Suit='Spades', Rank='7'), Card(Suit='Clubs', Rank='9'), Card(Suit='Diamonds', Rank='9'), Card(Suit='Diamonds', Rank='8'), Card(Suit='Spades', Rank='9'), Card(Suit='Hearts', Rank='K'), Card(Suit='Hearts', Rank='7'), Card(Suit='Spades', Rank='6'), Card(Suit='Spades', Rank='3'), Card(Suit='Diamonds', Rank='5'), Card(Suit='Hearts', Rank='9'), Card(Suit='Diamonds', Rank='7'), Card(Suit='Diamonds', Rank='K'), Card(Suit='Clubs', Rank='2'), Card(Suit='Spades', Rank='K'), Card(Suit='Spades', Rank='J'), Card(Suit='Diamonds', Rank='10'), Card(Suit='Clubs', Rank='4'), Card(Suit='Clubs', Rank='A'), Card(Suit='Hearts', Rank='8'), Card(Suit='Diamonds', Rank='6'), Card(Suit='Diamonds', Rank='J'), Card(Suit='Diamonds', Rank='3'), Card(Suit='Spades', Rank='8'), Card(Suit='Diamonds', Rank='A'), Card(Suit='Clubs', Rank='8'), Card(Suit='Hearts', Rank='J'), Card(Suit='Clubs', Rank='5'), Card(Suit='Spades', Rank='Q'), Card(Suit='Hearts', Rank='3'), Card(Suit='Spades', Rank='A'), Card(Suit='Spades', Rank='4'), Card(Suit='Clubs', Rank='K'), Card(Suit='Clubs', Rank='10'), Card(Suit='Clubs', Rank='J'), Card(Suit='Hearts', Rank='2'), Card(Suit='Hearts', Rank='5'), Card(Suit='Clubs', Rank='6'), Card(Suit='Diamonds', Rank='Q'), Card(Suit='Hearts', Rank='Q'), Card(Suit='Hearts', Rank='A'), Card(Suit='Hearts', Rank='4'), Card(Suit='Spades', Rank='10'), Card(Suit='Clubs', Rank='7'), Card(Suit='Spades', Rank='2'), Card(Suit='Diamonds', Rank='2'), Card(Suit='Hearts', Rank='10')]\n"
     ]
    }
   ],
   "source": [
    "a = deck1.draw_cards(52)\n",
    "print(a)"
   ]
  },
  {
   "cell_type": "code",
   "execution_count": 92,
   "metadata": {
    "collapsed": true,
    "jupyter": {
     "outputs_hidden": true
    }
   },
   "outputs": [
    {
     "data": {
      "text/plain": [
       "['Rank',\n",
       " 'Suit',\n",
       " '__add__',\n",
       " '__class__',\n",
       " '__contains__',\n",
       " '__delattr__',\n",
       " '__dir__',\n",
       " '__doc__',\n",
       " '__eq__',\n",
       " '__format__',\n",
       " '__ge__',\n",
       " '__getattribute__',\n",
       " '__getitem__',\n",
       " '__getnewargs__',\n",
       " '__gt__',\n",
       " '__hash__',\n",
       " '__init__',\n",
       " '__init_subclass__',\n",
       " '__iter__',\n",
       " '__le__',\n",
       " '__len__',\n",
       " '__lt__',\n",
       " '__module__',\n",
       " '__mul__',\n",
       " '__ne__',\n",
       " '__new__',\n",
       " '__reduce__',\n",
       " '__reduce_ex__',\n",
       " '__repr__',\n",
       " '__rmul__',\n",
       " '__setattr__',\n",
       " '__sizeof__',\n",
       " '__slots__',\n",
       " '__str__',\n",
       " '__subclasshook__',\n",
       " '_asdict',\n",
       " '_field_defaults',\n",
       " '_fields',\n",
       " '_fields_defaults',\n",
       " '_make',\n",
       " '_replace',\n",
       " 'count',\n",
       " 'index']"
      ]
     },
     "execution_count": 92,
     "metadata": {},
     "output_type": "execute_result"
    }
   ],
   "source": [
    "dir(Card_Maker)"
   ]
  },
  {
   "cell_type": "code",
   "execution_count": 93,
   "metadata": {},
   "outputs": [
    {
     "name": "stdout",
     "output_type": "stream",
     "text": [
      "<slot wrapper '__str__' of 'object' objects>\n"
     ]
    }
   ],
   "source": [
    "print(Card_Maker.__str__)"
   ]
  },
  {
   "cell_type": "code",
   "execution_count": 94,
   "metadata": {},
   "outputs": [],
   "source": [
    "def card_nickname(self):\n",
    "    return self.Rank + self.Suit[0]\n",
    "    "
   ]
  },
  {
   "cell_type": "code",
   "execution_count": 97,
   "metadata": {},
   "outputs": [
    {
     "ename": "AttributeError",
     "evalue": "'Card' object has no attribute 'test_str'",
     "output_type": "error",
     "traceback": [
      "\u001b[1;31m---------------------------------------------------------------------------\u001b[0m",
      "\u001b[1;31mAttributeError\u001b[0m                            Traceback (most recent call last)",
      "\u001b[1;32m<ipython-input-97-a2a11e8ceb2a>\u001b[0m in \u001b[0;36m<module>\u001b[1;34m\u001b[0m\n\u001b[1;32m----> 1\u001b[1;33m \u001b[0ma\u001b[0m\u001b[1;33m[\u001b[0m\u001b[1;36m0\u001b[0m\u001b[1;33m]\u001b[0m\u001b[1;33m.\u001b[0m\u001b[0mtest_str\u001b[0m \u001b[1;33m=\u001b[0m \u001b[0mcard_nickname\u001b[0m\u001b[1;33m\u001b[0m\u001b[1;33m\u001b[0m\u001b[0m\n\u001b[0m",
      "\u001b[1;31mAttributeError\u001b[0m: 'Card' object has no attribute 'test_str'"
     ]
    }
   ],
   "source": [
    "a[0].test_str = card_nickname"
   ]
  },
  {
   "cell_type": "code",
   "execution_count": 98,
   "metadata": {},
   "outputs": [
    {
     "ename": "SyntaxError",
     "evalue": "cannot assign to function call (<ipython-input-98-d7965640cc1f>, line 1)",
     "output_type": "error",
     "traceback": [
      "\u001b[1;36m  File \u001b[1;32m\"<ipython-input-98-d7965640cc1f>\"\u001b[1;36m, line \u001b[1;32m1\u001b[0m\n\u001b[1;33m    setattr(a, test_str) = card_nickname\u001b[0m\n\u001b[1;37m    ^\u001b[0m\n\u001b[1;31mSyntaxError\u001b[0m\u001b[1;31m:\u001b[0m cannot assign to function call\n"
     ]
    }
   ],
   "source": [
    "setattr(a, test_str) = card_nickname"
   ]
  },
  {
   "cell_type": "code",
   "execution_count": 99,
   "metadata": {},
   "outputs": [
    {
     "ename": "SyntaxError",
     "evalue": "cannot assign to function call (<ipython-input-99-8c221686a04d>, line 1)",
     "output_type": "error",
     "traceback": [
      "\u001b[1;36m  File \u001b[1;32m\"<ipython-input-99-8c221686a04d>\"\u001b[1;36m, line \u001b[1;32m1\u001b[0m\n\u001b[1;33m    setattr(a, test_str) = \"test\"\u001b[0m\n\u001b[1;37m    ^\u001b[0m\n\u001b[1;31mSyntaxError\u001b[0m\u001b[1;31m:\u001b[0m cannot assign to function call\n"
     ]
    }
   ],
   "source": [
    "setattr(a, test_str) = \"test\""
   ]
  },
  {
   "cell_type": "code",
   "execution_count": 100,
   "metadata": {},
   "outputs": [],
   "source": [
    "# I think you are blocked from modifying the collections because they use slots??"
   ]
  },
  {
   "cell_type": "code",
   "execution_count": null,
   "metadata": {},
   "outputs": [],
   "source": []
  }
 ],
 "metadata": {
  "kernelspec": {
   "display_name": "Python 3",
   "language": "python",
   "name": "python3"
  },
  "language_info": {
   "codemirror_mode": {
    "name": "ipython",
    "version": 3
   },
   "file_extension": ".py",
   "mimetype": "text/x-python",
   "name": "python",
   "nbconvert_exporter": "python",
   "pygments_lexer": "ipython3",
   "version": "3.8.2"
  },
  "varInspector": {
   "cols": {
    "lenName": 16,
    "lenType": 16,
    "lenVar": 40
   },
   "kernels_config": {
    "python": {
     "delete_cmd_postfix": "",
     "delete_cmd_prefix": "del ",
     "library": "var_list.py",
     "varRefreshCmd": "print(var_dic_list())"
    },
    "r": {
     "delete_cmd_postfix": ") ",
     "delete_cmd_prefix": "rm(",
     "library": "var_list.r",
     "varRefreshCmd": "cat(var_dic_list()) "
    }
   },
   "position": {
    "height": "276.848px",
    "left": "747.429px",
    "right": "20px",
    "top": "120px",
    "width": "332px"
   },
   "types_to_exclude": [
    "module",
    "function",
    "builtin_function_or_method",
    "instance",
    "_Feature"
   ],
   "window_display": false
  }
 },
 "nbformat": 4,
 "nbformat_minor": 4
}
