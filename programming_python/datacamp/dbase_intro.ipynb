{
 "cells": [
  {
   "cell_type": "code",
   "execution_count": 3,
   "metadata": {},
   "outputs": [],
   "source": [
    "# Notes on initial databasing\n",
    "# Tony Held tony.held@gmail.com\n",
    "# Created 02/01/2021"
   ]
  },
  {
   "cell_type": "code",
   "execution_count": 79,
   "metadata": {},
   "outputs": [],
   "source": [
    "from IPython.core.interactiveshell import InteractiveShell\n",
    "# InteractiveShell.ast_node_interactivity I can only get last_expr_or_assign to work\n",
    "InteractiveShell.ast_node_interactivity = \"last_expr_or_assign\"\n",
    "\n",
    "# Allows autocomplete to work properly\n",
    "# https://stackoverflow.com/questions/40536560/ipython-and-jupyter-autocomplete-not-working\n",
    "%config Completer.use_jedi = False"
   ]
  },
  {
   "cell_type": "code",
   "execution_count": 99,
   "metadata": {},
   "outputs": [],
   "source": [
    "def values(var, exclude_starting_with=\"_\"):\n",
    "    \"\"\"Show variable attributes and values for diagnostic debugging purposes.\n",
    "    \n",
    "    Set exclude_starting_with to '' if you wish to include all attributes.\"\"\"\n",
    "    \n",
    "    print(f'Variable type: {type(var)}')\n",
    "    \n",
    "    if exclude_starting_with:\n",
    "        attrs = [i for i in dir(var) if not i.startswith(exclude_starting_with)]\n",
    "    else:\n",
    "        attrs = [i for i in dir(var)]\n",
    "            \n",
    "    for i in attrs:\n",
    "        print(f'\\n{i}:\\n{\"-\"*20}\\n{getattr(var, i)}')"
   ]
  },
  {
   "cell_type": "code",
   "execution_count": 5,
   "metadata": {},
   "outputs": [],
   "source": [
    "import dbm"
   ]
  },
  {
   "cell_type": "code",
   "execution_count": 6,
   "metadata": {},
   "outputs": [
    {
     "data": {
      "text/plain": [
       "<dbm.dumb._Database at 0x1bda0643340>"
      ]
     },
     "execution_count": 6,
     "metadata": {},
     "output_type": "execute_result"
    }
   ],
   "source": [
    "file = dbm.open('movie', 'c')"
   ]
  },
  {
   "cell_type": "code",
   "execution_count": 7,
   "metadata": {},
   "outputs": [],
   "source": [
    "file['Batman'] = 'Pow!'"
   ]
  },
  {
   "cell_type": "code",
   "execution_count": 8,
   "metadata": {},
   "outputs": [
    {
     "data": {
      "text/plain": [
       "[b'Batman']"
      ]
     },
     "execution_count": 8,
     "metadata": {},
     "output_type": "execute_result"
    }
   ],
   "source": [
    "file.keys()"
   ]
  },
  {
   "cell_type": "code",
   "execution_count": 9,
   "metadata": {},
   "outputs": [
    {
     "data": {
      "text/plain": [
       "b'Pow!'"
      ]
     },
     "execution_count": 9,
     "metadata": {},
     "output_type": "execute_result"
    }
   ],
   "source": [
    "file['Batman']"
   ]
  },
  {
   "cell_type": "code",
   "execution_count": 10,
   "metadata": {},
   "outputs": [
    {
     "data": {
      "text/plain": [
       "'Pow!'"
      ]
     },
     "execution_count": 10,
     "metadata": {},
     "output_type": "execute_result"
    }
   ],
   "source": [
    "file['Batman'].decode()"
   ]
  },
  {
   "cell_type": "code",
   "execution_count": 11,
   "metadata": {},
   "outputs": [],
   "source": [
    "who = ['Robin', 'Cat-woman', 'Joker']\n",
    "what = ['Bang', 'Splat', 'Wham']\n",
    "for k, v in zip(who, what):\n",
    "    file[k] = v"
   ]
  },
  {
   "cell_type": "code",
   "execution_count": 12,
   "metadata": {},
   "outputs": [
    {
     "data": {
      "text/plain": [
       "<dbm.dumb._Database at 0x1bda0643340>"
      ]
     },
     "execution_count": 12,
     "metadata": {},
     "output_type": "execute_result"
    }
   ],
   "source": [
    "file"
   ]
  },
  {
   "cell_type": "code",
   "execution_count": 13,
   "metadata": {},
   "outputs": [
    {
     "data": {
      "text/plain": [
       "[b'Batman', b'Robin', b'Cat-woman', b'Joker']"
      ]
     },
     "execution_count": 13,
     "metadata": {},
     "output_type": "execute_result"
    }
   ],
   "source": [
    "file.keys()"
   ]
  },
  {
   "cell_type": "code",
   "execution_count": 17,
   "metadata": {},
   "outputs": [
    {
     "name": "stdout",
     "output_type": "stream",
     "text": [
      "key: Batman, value: Pow!\n",
      "key: Robin, value: Bang\n",
      "key: Cat-woman, value: Splat\n",
      "key: Joker, value: Wham\n"
     ]
    }
   ],
   "source": [
    "for k,v in file.items():\n",
    "    print(f'key: {k.decode()}, value: {v.decode()}')"
   ]
  },
  {
   "cell_type": "code",
   "execution_count": 18,
   "metadata": {},
   "outputs": [],
   "source": [
    "file.close()"
   ]
  },
  {
   "cell_type": "code",
   "execution_count": 19,
   "metadata": {},
   "outputs": [
    {
     "name": "stdout",
     "output_type": "stream",
     "text": [
      " Volume in drive D is Docs\n",
      " Volume Serial Number is 9443-477E\n",
      "\n",
      " Directory of D:\\Google Drive\\My Documents\\code\\python\\Pycharm Projects\\Self Study\\Programming Python\n",
      "\n",
      "02/02/2021  07:40 AM    <DIR>          .\n",
      "02/02/2021  07:40 AM    <DIR>          ..\n",
      "02/02/2021  07:23 AM    <DIR>          .idea\n",
      "02/01/2021  10:04 AM    <DIR>          .ipynb_checkpoints\n",
      "01/28/2021  01:08 PM    <DIR>          __pycache__\n",
      "01/28/2021  01:10 PM               271 attachgui.py\n",
      "01/28/2021  12:05 PM                56 class-shelve.bak\n",
      "01/28/2021  12:05 PM             1,130 class-shelve.dat\n",
      "01/28/2021  12:05 PM                56 class-shelve.dir\n",
      "01/28/2021  12:11 PM             1,447 console_shelf.py\n",
      "01/28/2021  07:44 AM               544 main.py\n",
      "02/02/2021  07:36 AM                81 movie.bak\n",
      "02/02/2021  07:36 AM             1,540 movie.dat\n",
      "02/02/2021  07:38 AM                81 movie.dir\n",
      "02/02/2021  07:40 AM             4,402 scratch_1.ipynb\n",
      "01/28/2021  12:43 PM               314 tkinter001.py\n",
      "01/28/2021  01:00 PM               427 tkinter102.py\n",
      "02/01/2021  04:36 PM    <DIR>          website_root\n",
      "              12 File(s)         10,349 bytes\n",
      "               6 Dir(s)  464,967,135,232 bytes free\n"
     ]
    }
   ],
   "source": [
    "ls"
   ]
  },
  {
   "cell_type": "code",
   "execution_count": 20,
   "metadata": {},
   "outputs": [],
   "source": [
    "import sqlite3"
   ]
  },
  {
   "cell_type": "code",
   "execution_count": 21,
   "metadata": {},
   "outputs": [
    {
     "data": {
      "text/plain": [
       "<sqlite3.Connection at 0x1bda06a6e40>"
      ]
     },
     "execution_count": 21,
     "metadata": {},
     "output_type": "execute_result"
    }
   ],
   "source": [
    "conn = sqlite3.connect('dbase1')"
   ]
  },
  {
   "cell_type": "code",
   "execution_count": 22,
   "metadata": {},
   "outputs": [
    {
     "data": {
      "text/plain": [
       "<sqlite3.Cursor at 0x1bda22d4030>"
      ]
     },
     "execution_count": 22,
     "metadata": {},
     "output_type": "execute_result"
    }
   ],
   "source": [
    "curs = conn.cursor()"
   ]
  },
  {
   "cell_type": "code",
   "execution_count": 23,
   "metadata": {},
   "outputs": [
    {
     "data": {
      "text/plain": [
       "'create table people (name char(30), job char(10), pay int(4))'"
      ]
     },
     "execution_count": 23,
     "metadata": {},
     "output_type": "execute_result"
    }
   ],
   "source": [
    "tblcmd = 'create table people (name char(30), job char(10), pay int(4))'"
   ]
  },
  {
   "cell_type": "code",
   "execution_count": 24,
   "metadata": {},
   "outputs": [
    {
     "data": {
      "text/plain": [
       "<sqlite3.Cursor at 0x1bda22d4030>"
      ]
     },
     "execution_count": 24,
     "metadata": {},
     "output_type": "execute_result"
    }
   ],
   "source": [
    "curs.execute(tblcmd)"
   ]
  },
  {
   "cell_type": "code",
   "execution_count": 28,
   "metadata": {},
   "outputs": [
    {
     "data": {
      "text/plain": [
       "<sqlite3.Cursor at 0x1bda22d4030>"
      ]
     },
     "execution_count": 28,
     "metadata": {},
     "output_type": "execute_result"
    }
   ],
   "source": [
    "curs.execute(\"insert into people values (?, ?, ?)\", ('Bob', 'dev', 5000))"
   ]
  },
  {
   "cell_type": "code",
   "execution_count": 29,
   "metadata": {},
   "outputs": [
    {
     "data": {
      "text/plain": [
       "1"
      ]
     },
     "execution_count": 29,
     "metadata": {},
     "output_type": "execute_result"
    }
   ],
   "source": [
    "curs.rowcount"
   ]
  },
  {
   "cell_type": "code",
   "execution_count": 30,
   "metadata": {},
   "outputs": [
    {
     "data": {
      "text/plain": [
       "'qmark'"
      ]
     },
     "execution_count": 30,
     "metadata": {},
     "output_type": "execute_result"
    }
   ],
   "source": [
    "sqlite3.paramstyle"
   ]
  },
  {
   "cell_type": "code",
   "execution_count": 32,
   "metadata": {},
   "outputs": [
    {
     "data": {
      "text/plain": [
       "<sqlite3.Cursor at 0x1bda22d4030>"
      ]
     },
     "execution_count": 32,
     "metadata": {},
     "output_type": "execute_result"
    }
   ],
   "source": [
    "curs.executemany(\"insert into people values (?, ?, ?)\", \n",
    "                 [('Sue', 'mus', 70000),\n",
    "                  ('Ann', 'mus', 60000)])"
   ]
  },
  {
   "cell_type": "code",
   "execution_count": 33,
   "metadata": {},
   "outputs": [
    {
     "data": {
      "text/plain": [
       "2"
      ]
     },
     "execution_count": 33,
     "metadata": {},
     "output_type": "execute_result"
    }
   ],
   "source": [
    "curs.rowcount"
   ]
  },
  {
   "cell_type": "code",
   "execution_count": 34,
   "metadata": {},
   "outputs": [
    {
     "data": {
      "text/plain": [
       "[['Tom', 'mgr', 100000], ['Kim', 'adm', 30000], ['Pat', 'dev', 90000]]"
      ]
     },
     "execution_count": 34,
     "metadata": {},
     "output_type": "execute_result"
    }
   ],
   "source": [
    "data = [ ['Tom', 'mgr', 100000],\n",
    "         ['Kim', 'adm', 30000],\n",
    "         ['Pat', 'dev', 90000]]"
   ]
  },
  {
   "cell_type": "code",
   "execution_count": 35,
   "metadata": {},
   "outputs": [
    {
     "data": {
      "text/plain": [
       "<sqlite3.Cursor at 0x1bda22d4030>"
      ]
     },
     "execution_count": 35,
     "metadata": {},
     "output_type": "execute_result"
    }
   ],
   "source": [
    "curs.executemany(\"insert into people values (?, ?, ?)\", data)"
   ]
  },
  {
   "cell_type": "code",
   "execution_count": 36,
   "metadata": {},
   "outputs": [
    {
     "data": {
      "text/plain": [
       "3"
      ]
     },
     "execution_count": 36,
     "metadata": {},
     "output_type": "execute_result"
    }
   ],
   "source": [
    "curs.rowcount"
   ]
  },
  {
   "cell_type": "code",
   "execution_count": 37,
   "metadata": {},
   "outputs": [
    {
     "data": {
      "text/plain": [
       "<sqlite3.Cursor at 0x1bda22d4030>"
      ]
     },
     "execution_count": 37,
     "metadata": {},
     "output_type": "execute_result"
    }
   ],
   "source": [
    "curs.execute('select * from people')"
   ]
  },
  {
   "cell_type": "code",
   "execution_count": 38,
   "metadata": {},
   "outputs": [
    {
     "data": {
      "text/plain": [
       "[('Bob', 'dev', 5000),\n",
       " ('Sue', 'mus', 70000),\n",
       " ('Ann', 'mus', 60000),\n",
       " ('Tom', 'mgr', 100000),\n",
       " ('Kim', 'adm', 30000),\n",
       " ('Pat', 'dev', 90000)]"
      ]
     },
     "execution_count": 38,
     "metadata": {},
     "output_type": "execute_result"
    }
   ],
   "source": [
    "curs.fetchall()"
   ]
  },
  {
   "cell_type": "code",
   "execution_count": 39,
   "metadata": {},
   "outputs": [
    {
     "data": {
      "text/plain": [
       "<sqlite3.Cursor at 0x1bda22d4030>"
      ]
     },
     "execution_count": 39,
     "metadata": {},
     "output_type": "execute_result"
    }
   ],
   "source": [
    "curs.execute('select * from people')"
   ]
  },
  {
   "cell_type": "code",
   "execution_count": 40,
   "metadata": {},
   "outputs": [
    {
     "data": {
      "text/plain": [
       "(('name', None, None, None, None, None, None),\n",
       " ('job', None, None, None, None, None, None),\n",
       " ('pay', None, None, None, None, None, None))"
      ]
     },
     "execution_count": 40,
     "metadata": {},
     "output_type": "execute_result"
    }
   ],
   "source": [
    "curs.description"
   ]
  },
  {
   "cell_type": "code",
   "execution_count": 41,
   "metadata": {},
   "outputs": [
    {
     "data": {
      "text/plain": [
       "[('Bob', 'dev', 5000),\n",
       " ('Sue', 'mus', 70000),\n",
       " ('Ann', 'mus', 60000),\n",
       " ('Tom', 'mgr', 100000),\n",
       " ('Kim', 'adm', 30000),\n",
       " ('Pat', 'dev', 90000)]"
      ]
     },
     "execution_count": 41,
     "metadata": {},
     "output_type": "execute_result"
    }
   ],
   "source": [
    "curs.fetchall()"
   ]
  },
  {
   "cell_type": "code",
   "execution_count": 1,
   "metadata": {},
   "outputs": [
    {
     "data": {
      "text/plain": [
       "'D:\\\\Google Drive\\\\My Documents\\\\code\\\\python\\\\Pycharm Projects\\\\Self Study\\\\Programming Python'"
      ]
     },
     "execution_count": 1,
     "metadata": {},
     "output_type": "execute_result"
    }
   ],
   "source": [
    "pwd"
   ]
  },
  {
   "cell_type": "code",
   "execution_count": 2,
   "metadata": {},
   "outputs": [
    {
     "name": "stdout",
     "output_type": "stream",
     "text": [
      " Volume in drive D is Docs\n",
      " Volume Serial Number is 9443-477E\n",
      "\n",
      " Directory of D:\\Google Drive\\My Documents\\code\\python\\Pycharm Projects\\Self Study\\Programming Python\n",
      "\n",
      "02/04/2021  06:42 PM    <DIR>          .\n",
      "02/04/2021  06:42 PM    <DIR>          ..\n",
      "02/05/2021  07:35 AM    <DIR>          .idea\n",
      "02/01/2021  10:04 AM    <DIR>          .ipynb_checkpoints\n",
      "01/28/2021  01:08 PM    <DIR>          __pycache__\n",
      "01/28/2021  01:10 PM               271 attachgui.py\n",
      "01/28/2021  12:05 PM                56 class-shelve.bak\n",
      "01/28/2021  12:05 PM             1,130 class-shelve.dat\n",
      "01/28/2021  12:05 PM                56 class-shelve.dir\n",
      "01/28/2021  12:11 PM             1,447 console_shelf.py\n",
      "02/02/2021  11:19 AM             8,192 dbase1\n",
      "02/03/2021  03:40 PM    <DIR>          flask_intro\n",
      "02/03/2021  09:28 AM    <DIR>          flask_todo\n",
      "02/03/2021  07:44 AM                 0 identifier.sqlite\n",
      "01/28/2021  07:44 AM               544 main.py\n",
      "02/02/2021  07:36 AM                81 movie.bak\n",
      "02/02/2021  07:36 AM             1,540 movie.dat\n",
      "02/02/2021  07:38 AM                81 movie.dir\n",
      "02/02/2021  11:54 AM            12,825 scratch_1.ipynb\n",
      "01/28/2021  12:43 PM               314 tkinter001.py\n",
      "01/28/2021  01:00 PM               427 tkinter102.py\n",
      "02/04/2021  08:59 PM    <DIR>          webforms\n",
      "02/01/2021  04:36 PM    <DIR>          website_root\n",
      "              14 File(s)         26,964 bytes\n",
      "               9 Dir(s)  464,961,175,552 bytes free\n"
     ]
    }
   ],
   "source": [
    "ls"
   ]
  }
 ],
 "metadata": {
  "kernelspec": {
   "display_name": "Python 3",
   "language": "python",
   "name": "python3"
  },
  "language_info": {
   "codemirror_mode": {
    "name": "ipython",
    "version": 3
   },
   "file_extension": ".py",
   "mimetype": "text/x-python",
   "name": "python",
   "nbconvert_exporter": "python",
   "pygments_lexer": "ipython3",
   "version": "3.8.5"
  }
 },
 "nbformat": 4,
 "nbformat_minor": 4
}
