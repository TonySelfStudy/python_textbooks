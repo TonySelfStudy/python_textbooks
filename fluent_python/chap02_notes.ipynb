{
 "cells": [
  {
   "cell_type": "code",
   "execution_count": 4,
   "metadata": {},
   "outputs": [],
   "source": [
    "# Notes from reading/studying Fluent Python by Luciano Ramalho\n",
    "# Chapter 2\n",
    "# Created 9/15/20"
   ]
  },
  {
   "cell_type": "code",
   "execution_count": 5,
   "metadata": {},
   "outputs": [],
   "source": [
    "class Vector:\n",
    "    \"\"\"from page 10.  implements, repr, abs, add, mul\"\"\"\n",
    "    def __init__(self, x=0, y=0):\n",
    "        self.x = x\n",
    "        self.y = y\n",
    "    def __repr__(self):\n",
    "        return f'Vector({self.x}, {self.y})'\n",
    "    def __add__(self, vector):\n",
    "        return Vector(self.x + vector.x, self.y + vector.y)\n",
    "    def __mul__(self, scaler):\n",
    "        return Vector(self.x * scaler, self.y * scaler)\n",
    "    def __abs__(self):\n",
    "        return (self.x ** 2 + self.y ** 2) ** 0.5\n",
    "#     def __bool__(self):\n",
    "#         return bool(abs(self))\n",
    "    def __bool__(self):\n",
    "        return bool(abs(self))\n"
   ]
  },
  {
   "cell_type": "code",
   "execution_count": 6,
   "metadata": {},
   "outputs": [
    {
     "name": "stdout",
     "output_type": "stream",
     "text": [
      "Vector(0, 0) Vector(2, 4) Vector(2, 1) Vector(4, 5) Vector(6, 12) Vector(3, 4) Vector(0, 6)\n",
      "0.0 4.47213595499958 2.23606797749979 6.4031242374328485 13.416407864998739 5.0 6.0\n",
      "False True True True True True True\n"
     ]
    }
   ],
   "source": [
    "v0 = Vector(0, 0)\n",
    "v1 = Vector(2, 4)\n",
    "v2 = Vector(2, 1)\n",
    "v3 = v1 + v2\n",
    "v4 = v1 * 3\n",
    "v5 = Vector(3, 4)\n",
    "v6 = Vector(0, 6)\n",
    "\n",
    "identity = lambda i: i\n",
    "funcs = [identity, abs, bool]\n",
    "\n",
    "for f in funcs:\n",
    "    print(f(v0), f(v1), f(v2), f(v3), f(v4), f(v5), f(v6))\n"
   ]
  },
  {
   "cell_type": "code",
   "execution_count": 24,
   "metadata": {},
   "outputs": [
    {
     "name": "stdout",
     "output_type": "stream",
     "text": [
      "['_', '_', '_']\n",
      "[['_', '_', '_']]\n",
      "[['_'], ['_'], ['_']]\n",
      "['X', '_', '_']\n",
      "['X']\n",
      "['X', ['_'], ['_']]\n"
     ]
    }
   ],
   "source": [
    "x1 = [\"_\"] * 3\n",
    "x2 = [[\"_\"] * 3]\n",
    "x3 = [[\"_\"]] * 3\n",
    "print(x1)\n",
    "print(x2)\n",
    "print(x3)\n",
    "\n",
    "x1[0]='X'\n",
    "x2[0]='X'\n",
    "x3[0]='X'\n",
    "print(x1)\n",
    "print(x2)\n",
    "print(x3)"
   ]
  },
  {
   "cell_type": "code",
   "execution_count": 26,
   "metadata": {},
   "outputs": [
    {
     "name": "stdout",
     "output_type": "stream",
     "text": [
      "['_', '_', '_']\n",
      "[['_', '_', '_']]\n",
      "[['_'], ['_'], ['_']]\n",
      "['_', '_', '_', 'Y']\n",
      "[['_', '_', '_', 'Y']]\n",
      "[['_', 'Y'], ['_', 'Y'], ['_', 'Y']]\n"
     ]
    }
   ],
   "source": [
    "x1 = [\"_\"] * 3\n",
    "x2 = [[\"_\"] * 3]\n",
    "x3 = [[\"_\"]] * 3\n",
    "print(x1)\n",
    "print(x2)\n",
    "print(x3)\n",
    "\n",
    "x1.append('Y')\n",
    "x2[0].append('Y')\n",
    "x3[0].append('Y')\n",
    "print(x1)\n",
    "print(x2)\n",
    "print(x3)"
   ]
  },
  {
   "cell_type": "code",
   "execution_count": 27,
   "metadata": {},
   "outputs": [
    {
     "name": "stdout",
     "output_type": "stream",
     "text": [
      "['_', '_', '_', '_', '_', '_', '_', '_', '_']\n",
      "[['_', '_', '_', '_', '_', '_', '_', '_', '_']]\n",
      "[['_'], ['_'], ['_']]\n",
      "['X', '_', '_', '_', '_', '_', '_', '_', '_']\n",
      "['X']\n",
      "[['X'], ['X'], ['X']]\n"
     ]
    }
   ],
   "source": [
    "x1 = [\"_\", \"_\", \"_\"] * 3\n",
    "x2 = [[\"_\", \"_\", \"_\"] * 3]\n",
    "x3 = [[\"_\"]] * 3\n",
    "\n",
    "print(x1)\n",
    "print(x2)\n",
    "print(x3)\n",
    "\n",
    "x1[0]='X'\n",
    "x2[0]='X'\n",
    "x3[0][0]='X'\n",
    "print(x1)\n",
    "print(x2)\n",
    "print(x3)"
   ]
  },
  {
   "cell_type": "code",
   "execution_count": 30,
   "metadata": {},
   "outputs": [
    {
     "name": "stdout",
     "output_type": "stream",
     "text": [
      "['_', '_', '_'] \n",
      " [['_', '_', '_'], ['_', '_', '_'], ['_', '_', '_']]\n",
      "['_', '_', 'Y'] \n",
      " [['_', '_', 'Y'], ['_', '_', 'Y'], ['_', '_', 'Y']]\n"
     ]
    }
   ],
   "source": [
    "x1 = [\"_\", \"_\", \"_\"]\n",
    "x2 = [x1] * 3\n",
    "print(x1, '\\n', x2)\n",
    "x1[2]='Y'\n",
    "print(x1, '\\n', x2)"
   ]
  },
  {
   "cell_type": "code",
   "execution_count": 32,
   "metadata": {},
   "outputs": [
    {
     "name": "stdout",
     "output_type": "stream",
     "text": [
      "[['_', '_', '_'], ['_', '_', '_'], ['_', '_', '_']]\n",
      "[['_', 'X', '_'], ['_', '_', '_'], ['_', '_', '_']]\n"
     ]
    }
   ],
   "source": [
    "x3 = [[\"_\", \"_\", \"_\"] for i in range(3)]\n",
    "print(x3)\n",
    "x3[0][1]='X'\n",
    "print(x3)\n"
   ]
  },
  {
   "cell_type": "code",
   "execution_count": null,
   "metadata": {},
   "outputs": [],
   "source": []
  }
 ],
 "metadata": {
  "kernelspec": {
   "display_name": "Python 3",
   "language": "python",
   "name": "python3"
  },
  "language_info": {
   "codemirror_mode": {
    "name": "ipython",
    "version": 3
   },
   "file_extension": ".py",
   "mimetype": "text/x-python",
   "name": "python",
   "nbconvert_exporter": "python",
   "pygments_lexer": "ipython3",
   "version": "3.8.2"
  }
 },
 "nbformat": 4,
 "nbformat_minor": 4
}
